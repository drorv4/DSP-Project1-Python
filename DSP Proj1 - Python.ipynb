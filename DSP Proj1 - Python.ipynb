{
 "cells": [
  {
   "cell_type": "markdown",
   "metadata": {},
   "source": [
    "# Project 1 - Python Programing\n",
    "## Submitted by: Dror Vered\n",
    "## May 2018 \n",
    "\n",
    "#### Background:\n",
    "This project is concerned with the implementation of mathematical graphs and their usages. The basic definition of a graph is a set of nodes where some pairs of nodes are connected by edges, and where these edges have weights. Each edge of the graph has a direction so by default a graph is directional. If there is an edge directed from node A to node B, then we say that B is a neighbor of A (i.e., B is connected to A), and we note that this does not necessarily mean that A is a neighbor of B. However, if all the edges come in “pairs” (namely, if X is a neighbor of Y, then Y is also a neighbor of X), then we say that the graph is non-directional.\n",
    "\n",
    "----------------------------------------------------"
   ]
  },
  {
   "cell_type": "markdown",
   "metadata": {},
   "source": [
    "## Part 1 - The Node class"
   ]
  },
  {
   "cell_type": "markdown",
   "metadata": {},
   "source": [
    "### Task 1 - Define the class"
   ]
  },
  {
   "cell_type": "code",
   "execution_count": 1,
   "metadata": {},
   "outputs": [],
   "source": [
    "                                            ################################\n",
    "class Node:                                 #  Node == name, {neighbors}   #\n",
    "    def __init__(self, name):               #                     \\        #\n",
    "        self.name = name                    #                 name:weight  #\n",
    "        self.neighbors = {}                 ################################   \n",
    "        \n",
    "    def __str__(self):                      # Returns the Node's name and the name & weight of each of its neighbors\n",
    "        return \"Node's name: {:>2} ; Neighbors (name:weight): {}\".format(self.name, self.neighbors)\n",
    "        \n",
    "    def __len__(self):       \n",
    "        return len(self.neighbors)\n",
    "   \n",
    "    def __contains__(self, item):\n",
    "        return item in self.neighbors\n",
    "    \n",
    "    def __getitem__(self, key):             # Returns the weight of the neighbor whose name is key\n",
    "        return self.neighbors[key] if key in self else None\n",
    "\n",
    "    def __eq__(self, other):\n",
    "        return self.name == other.name\n",
    "    \n",
    "    def __ne__(self, other):\n",
    "        return not (self == other)\n",
    "    \n",
    "    def is_neighbor(self, name):\n",
    "        return name in self\n",
    "    \n",
    "    def update(self, name, weight):         # adds name as a neighbor of self, if not already a neighbor.\n",
    "                                            # if name is already a neighbor of self,its weight is updated to the max\n",
    "                                            # between weight and the existing weight\n",
    "        if self.name == name:\n",
    "            print(\"Adding a neighbor to a node which has the same name, is not allowed\")\n",
    "        else: \n",
    "            self.neighbors[name] = max(self.neighbors[name], weight) if self.is_neighbor(name) else weight               \n",
    "\n",
    "    def remove_neighbor(self, name):        # removes name from being a neighbor of self\n",
    "        if self.is_neighbor(name):          # avoid failure of method in case name is not a neighbor of self\n",
    "            self.neighbors.pop(name)\n",
    "                \n",
    "    def is_isolated(self):                  # returns True if self has no neighbors\n",
    "        return len(self) == 0    "
   ]
  },
  {
   "cell_type": "markdown",
   "metadata": {},
   "source": [
    "### Task 2 - Exemplary Usage"
   ]
  },
  {
   "cell_type": "markdown",
   "metadata": {},
   "source": [
    "#### Question 1: Create 10 Node objects according to the given figure and print them"
   ]
  },
  {
   "cell_type": "code",
   "execution_count": 2,
   "metadata": {},
   "outputs": [
    {
     "name": "stdout",
     "output_type": "stream",
     "text": [
      "Node's name:  1 ; Neighbors (name:weight): {'2': 10, '4': 20, '5': 20, '6': 5, '7': 15}\n",
      "Node's name:  2 ; Neighbors (name:weight): {'3': 5, '4': 10}\n",
      "Node's name:  3 ; Neighbors (name:weight): {'2': 15, '4': 5}\n",
      "Node's name:  4 ; Neighbors (name:weight): {'5': 10}\n",
      "Node's name:  5 ; Neighbors (name:weight): {'6': 5}\n",
      "Node's name:  6 ; Neighbors (name:weight): {}\n",
      "Node's name:  7 ; Neighbors (name:weight): {'6': 10}\n",
      "Node's name:  8 ; Neighbors (name:weight): {'1': 5, '2': 20, '7': 5}\n",
      "Node's name:  9 ; Neighbors (name:weight): {'2': 15, '8': 20, '10': 10}\n",
      "Node's name: 10 ; Neighbors (name:weight): {'2': 5, '3': 15}\n"
     ]
    }
   ],
   "source": [
    "nodes_list = [Node(str(i)) for i in range(1,11)]\n",
    "nodes_list[0].update(nodes_list[1].name, 10)\n",
    "nodes_list[0].update(nodes_list[3].name, 20)\n",
    "nodes_list[0].update(nodes_list[4].name, 20)\n",
    "nodes_list[0].update(nodes_list[5].name, 5)\n",
    "nodes_list[0].update(nodes_list[6].name, 15)\n",
    "nodes_list[1].update(nodes_list[2].name, 5)\n",
    "nodes_list[1].update(nodes_list[3].name, 10)\n",
    "nodes_list[2].update(nodes_list[1].name, 15)\n",
    "nodes_list[2].update(nodes_list[3].name, 5)\n",
    "nodes_list[3].update(nodes_list[4].name, 10)\n",
    "nodes_list[4].update(nodes_list[5].name, 5)\n",
    "nodes_list[6].update(nodes_list[5].name, 10)\n",
    "nodes_list[7].update(nodes_list[0].name, 5)\n",
    "nodes_list[7].update(nodes_list[1].name, 20)\n",
    "nodes_list[7].update(nodes_list[6].name, 5)\n",
    "nodes_list[8].update(nodes_list[1].name, 15)\n",
    "nodes_list[8].update(nodes_list[7].name, 20)\n",
    "nodes_list[8].update(nodes_list[9].name, 10)\n",
    "nodes_list[9].update(nodes_list[1].name, 5)\n",
    "nodes_list[9].update(nodes_list[2].name, 15)\n",
    "for i in range(len(nodes_list)):\n",
    "    print(nodes_list[i])"
   ]
  },
  {
   "cell_type": "markdown",
   "metadata": {},
   "source": [
    "#### Question 2 - Tests"
   ]
  },
  {
   "cell_type": "code",
   "execution_count": 3,
   "metadata": {},
   "outputs": [
    {
     "name": "stdout",
     "output_type": "stream",
     "text": [
      "2\n",
      "False\n",
      "0\n",
      "True\n"
     ]
    }
   ],
   "source": [
    "print(len(nodes_list[2]))                             # print node '3' number of neighbors. Should return 2\n",
    "print(nodes_list[2].is_isolated())                    # check if node '3' has no neighbors. Should return False\n",
    "\n",
    "print(len(nodes_list[5]))                             # print node '6' number of neighbors. Should return 0\n",
    "print(nodes_list[5].is_isolated())                    # check if node '5' has no neighbors. Should return True"
   ]
  },
  {
   "cell_type": "code",
   "execution_count": 4,
   "metadata": {},
   "outputs": [
    {
     "name": "stdout",
     "output_type": "stream",
     "text": [
      "False\n",
      "10\n",
      "20\n",
      "20\n",
      "True\n",
      "False\n"
     ]
    }
   ],
   "source": [
    "print(nodes_list[4].name in nodes_list[2])            # check if node '5' is a neighbor of node '3'. Should return False\n",
    "nodes_list[2].remove_neighbor(nodes_list[4].name)     # trying to remove node '3' as a neighbor of '5'. Should not fail\n",
    "nodes_list[2].update(nodes_list[4].name, 10)          # add node '3' as a neighbor of '5', with weight 10\n",
    "print(nodes_list[2][nodes_list[4].name])              # print the weight of edge from '3' to '5'. Should return 10\n",
    "nodes_list[2].update(nodes_list[4].name, 20)          # update the weight of the existing neighbor to 20\n",
    "print(nodes_list[2][nodes_list[4].name])              # check if weight is now 20 (max between 20 and 10)\n",
    "nodes_list[2].update(nodes_list[4].name, 15)          # trying to update the weight of the existing neighbor to 15\n",
    "print(nodes_list[2][nodes_list[4].name])              # check if weight is still 20 (max between 20 and 15)\n",
    "print(nodes_list[4].name in nodes_list[2])            # check if '5' is a neighbor of '3'. Should now return True\n",
    "nodes_list[2].remove_neighbor(nodes_list[4].name)     # removing node '3' as a neighbor of '5'\n",
    "print(nodes_list[4].name in nodes_list[2])            # check if '5' is a neighbor of '3'. Should now return False"
   ]
  },
  {
   "cell_type": "code",
   "execution_count": 5,
   "metadata": {},
   "outputs": [
    {
     "name": "stdout",
     "output_type": "stream",
     "text": [
      "True\n",
      "Adding a neighbor to a node which has the same name, is not allowed\n"
     ]
    }
   ],
   "source": [
    "print(nodes_list[3].name in nodes_list[2])            # check if node '4' is a neighbor of node '3'. Should return True\n",
    "\n",
    "# trying to add a neighbor with the same name as the node.Should print an error message\n",
    "nodes_list[2].update(nodes_list[2].name, 10)          "
   ]
  },
  {
   "cell_type": "code",
   "execution_count": 6,
   "metadata": {},
   "outputs": [
    {
     "name": "stdout",
     "output_type": "stream",
     "text": [
      "5\n",
      "None\n"
     ]
    }
   ],
   "source": [
    "print(nodes_list[2][nodes_list[3].name])              # check the weight of edge from '3' to '4'. Should return 5\n",
    "print(nodes_list[2][nodes_list[5].name])              # check the weight of edge from '3' to '6'. Should return None"
   ]
  },
  {
   "cell_type": "code",
   "execution_count": 7,
   "metadata": {},
   "outputs": [
    {
     "name": "stdout",
     "output_type": "stream",
     "text": [
      "False\n",
      "True\n"
     ]
    }
   ],
   "source": [
    "print(nodes_list[2] == nodes_list[6])                 # check if name of '3' equals to name of '7'. Should return False\n",
    "print(nodes_list[2] != nodes_list[6])                 # check if name of '3' !equals to name of '7'. Should return True"
   ]
  },
  {
   "cell_type": "code",
   "execution_count": 8,
   "metadata": {},
   "outputs": [
    {
     "name": "stdout",
     "output_type": "stream",
     "text": [
      "True\n",
      "False\n"
     ]
    }
   ],
   "source": [
    "print(nodes_list[3].is_neighbor(nodes_list[4].name))  # check if node '5' is a neighbor of node '4'. Should return True\n",
    "print(nodes_list[9].is_neighbor(nodes_list[4].name))  # check if node '10' is a neighbor of node '4'. Should return False"
   ]
  },
  {
   "cell_type": "markdown",
   "metadata": {},
   "source": [
    "#### Question 3: How many edges in the graph and what is their total weight?"
   ]
  },
  {
   "cell_type": "code",
   "execution_count": 9,
   "metadata": {},
   "outputs": [
    {
     "name": "stdout",
     "output_type": "stream",
     "text": [
      "Number of edges in the graph: 20\n",
      "Total weight of the graphs' edges: 225\n"
     ]
    }
   ],
   "source": [
    "number_of_edges_in_graph = 0\n",
    "total_weight = 0\n",
    "for node in nodes_list:\n",
    "    number_of_edges_in_graph += len(node)\n",
    "    total_weight += sum(node.neighbors.values())\n",
    "            \n",
    "print(\"Number of edges in the graph: {}\".format(number_of_edges_in_graph))\n",
    "print(\"Total weight of the graphs' edges: {}\".format(total_weight))  \n"
   ]
  },
  {
   "cell_type": "markdown",
   "metadata": {},
   "source": [
    "#### Question 4: Sort the nodes by the number of their neighbors"
   ]
  },
  {
   "cell_type": "code",
   "execution_count": 10,
   "metadata": {},
   "outputs": [],
   "source": [
    "nodes_list.sort(key = lambda node: len(node))"
   ]
  },
  {
   "cell_type": "code",
   "execution_count": 11,
   "metadata": {},
   "outputs": [
    {
     "name": "stdout",
     "output_type": "stream",
     "text": [
      "Sorted by number of neighbors:\n",
      "Number of neighbors = 0 ; Node's name:  6 ; Neighbors (name:weight): {}\n",
      "Number of neighbors = 1 ; Node's name:  4 ; Neighbors (name:weight): {'5': 10}\n",
      "Number of neighbors = 1 ; Node's name:  5 ; Neighbors (name:weight): {'6': 5}\n",
      "Number of neighbors = 1 ; Node's name:  7 ; Neighbors (name:weight): {'6': 10}\n",
      "Number of neighbors = 2 ; Node's name:  2 ; Neighbors (name:weight): {'3': 5, '4': 10}\n",
      "Number of neighbors = 2 ; Node's name:  3 ; Neighbors (name:weight): {'2': 15, '4': 5}\n",
      "Number of neighbors = 2 ; Node's name: 10 ; Neighbors (name:weight): {'2': 5, '3': 15}\n",
      "Number of neighbors = 3 ; Node's name:  8 ; Neighbors (name:weight): {'1': 5, '2': 20, '7': 5}\n",
      "Number of neighbors = 3 ; Node's name:  9 ; Neighbors (name:weight): {'2': 15, '8': 20, '10': 10}\n",
      "Number of neighbors = 5 ; Node's name:  1 ; Neighbors (name:weight): {'2': 10, '4': 20, '5': 20, '6': 5, '7': 15}\n"
     ]
    }
   ],
   "source": [
    "# check sorting\n",
    "print('Sorted by number of neighbors:')\n",
    "for node in nodes_list:\n",
    "    print('Number of neighbors =', len(node), ';', node)"
   ]
  },
  {
   "cell_type": "code",
   "execution_count": 12,
   "metadata": {},
   "outputs": [
    {
     "name": "stdout",
     "output_type": "stream",
     "text": [
      "Sorted by name\n",
      "Node's name:  1 ; Neighbors (name:weight): {'2': 10, '4': 20, '5': 20, '6': 5, '7': 15}\n",
      "Node's name:  2 ; Neighbors (name:weight): {'3': 5, '4': 10}\n",
      "Node's name:  3 ; Neighbors (name:weight): {'2': 15, '4': 5}\n",
      "Node's name:  4 ; Neighbors (name:weight): {'5': 10}\n",
      "Node's name:  5 ; Neighbors (name:weight): {'6': 5}\n",
      "Node's name:  6 ; Neighbors (name:weight): {}\n",
      "Node's name:  7 ; Neighbors (name:weight): {'6': 10}\n",
      "Node's name:  8 ; Neighbors (name:weight): {'1': 5, '2': 20, '7': 5}\n",
      "Node's name:  9 ; Neighbors (name:weight): {'2': 15, '8': 20, '10': 10}\n",
      "Node's name: 10 ; Neighbors (name:weight): {'2': 5, '3': 15}\n"
     ]
    }
   ],
   "source": [
    "# sorting the nodes by their names, for later convenience\n",
    "nodes_list.sort(key = lambda node: int(node.name) if node.name.isdigit() else node.name)\n",
    "\n",
    "# check sorting\n",
    "print('Sorted by name')\n",
    "for node in nodes_list:\n",
    "    print(node)"
   ]
  },
  {
   "cell_type": "markdown",
   "metadata": {},
   "source": [
    "## Part 2 - The Graph class"
   ]
  },
  {
   "cell_type": "markdown",
   "metadata": {},
   "source": [
    "### Task 1 - Define the class"
   ]
  },
  {
   "cell_type": "code",
   "execution_count": 13,
   "metadata": {},
   "outputs": [],
   "source": [
    "                                              #############################\n",
    "class Graph:                                  #  Graph == name, {nodes}   #\n",
    "    def __init__(self, name, nodes=[]):       #                    \\      #\n",
    "        self.name = name                      #                name:Node  #\n",
    "        self.nodes = {}                       #############################\n",
    "        for node in nodes: \n",
    "            self.nodes[node.name] = node      # create a dictionary, where keys=nodes' names and values=nodes instances\n",
    "\n",
    "    def __str__(self):  \n",
    "        # Returns the Graph's name and the description of all its nodes (including node's neighbors which are not in the graph)\n",
    "        Graph_title = f\"Graph's name: {self.name}\\nNodes in graph:\\n\"\n",
    "        Nodes_desc = ''.join([str(counter).rjust(4) + ': ' + str(node) + '\\n' \\\n",
    "                    for counter, node in enumerate(sorted(list(self.nodes.values()), \\\n",
    "                    key = lambda node: int(node.name) if node.name.isdigit() else node.name),1)])   # sort by node name\n",
    "        return Graph_title + Nodes_desc\n",
    "           \n",
    "    def __len__(self):                        # return number of nodes in self\n",
    "        return len(self.nodes)\n",
    "    \n",
    "    def __contains__(self, key):    \n",
    "        # return True if key is a Node which exists in self, or if key is a name and there's a node in self carrying this name\n",
    "        return key.name in self.nodes if isinstance(key, Node) else key in self.nodes \n",
    "            \n",
    "    def __getitem__(self, name):              # return the Node object whose name is name\n",
    "        if not name in self:\n",
    "            raise KeyError(\"A Node whose name is '\" + str(name) + \"' is not in the graph\")\n",
    "        return self.nodes[name]       \n",
    "    \n",
    "    def __add__(self, other):\n",
    "        # creating a new Graph instance, which includes all the nodes and the edges of self and other,\n",
    "        # according to the following algorithm:\n",
    "        # 1. setting the name of the new graph as the concatenation of the names of self and other\n",
    "        # 2. populate the new graph with self's nodes\n",
    "        # 3. parsing the \"other\" graph, using the Graph.update method:\n",
    "        #    3.1. if node in \"other\" doesn't exist in the new graph, add it\n",
    "        #    3.2. if node exists, but its neighbor doesn't - \"connect\" the neighbor to the existing node\n",
    "        #    3.3. if node and neighbor exist - update the edge weight to the max between the two edges\n",
    "        merged_graph = Graph(self.name + '_' + other.name, list(self.nodes.values()))   # create a new graph with self's Nodes\n",
    "        for node in other.nodes.values():                                               # add other's Nodes to the new graph\n",
    "            merged_graph.update(node)\n",
    "        return merged_graph            \n",
    "\n",
    "    def update(self, node):                   # adding a new node to the graph\n",
    "        if node in self:   \n",
    "            # if a node with the same name already exists in self, then:\n",
    "            # for each neighbor of node:\n",
    "            # - if neighbor does not exist (as a node) in self, do nothing (neighbor is not included in the graph)\n",
    "            # - if neighbor exists in self, call \"Node.update()\" to either add an edge or to update its weight\n",
    "            for nbr_name, nbr_weight in node.neighbors.items():\n",
    "                if nbr_name in self:\n",
    "                    self[node.name].update(nbr_name, nbr_weight)\n",
    "        else:                                 # a node with the same name does not exist in self - add it\n",
    "            self.nodes[node.name] = node             \n",
    "            # no need to deal with the new nodes' neighbors, because either a neighbor does not exist in the graph, \n",
    "            #                                                               or will now exist (with current weight)            \n",
    "            \n",
    "    def remove_node(self, name):              # remove the Node whose name is name from self\n",
    "        if name in self           :           # avoid failure of method in case name is not in self\n",
    "            self.nodes.pop(name)  \n",
    "        \n",
    "    def is_edge(self, frm_name, to_name):     # if frm_name is not a name of a node in self, return None\n",
    "                                              # else return True if to_name is a neighbor of frm_name (even if to_name\n",
    "                                              # is not in self). \n",
    "        return to_name in self[frm_name].neighbors if frm_name in self else None\n",
    "    \n",
    "    def add_edge(self, frm_name, to_name, weight):  # if either frm_name or to_name are not in self, do nothing, return None\n",
    "                                                    # else, call \"node.update()\" to add to_name as a neighbor of frm_name\n",
    "        if frm_name in self and to_name in self:\n",
    "            self[frm_name].update(to_name, weight)\n",
    "\n",
    "    def remove_edge(self, frm_name, to_name):       # if frm_name is not in self, do nothing\n",
    "                                                    # if edge exists - remove it, else do nothing \n",
    "        if frm_name in self and self.is_edge(frm_name, to_name):\n",
    "            self[frm_name].neighbors.pop(to_name)\n",
    "\n",
    "    def get_edge_weight(self, frm_name, to_name):   # if either frm_name or to_name are not in self, return None\n",
    "                                                    # if edge exists return its weight, else return None \n",
    "        if frm_name in self and to_name in self and self.is_edge(frm_name, to_name):\n",
    "            return self[frm_name].neighbors[to_name]\n",
    "\n",
    "    def get_path_weight(self, path):       # returns the total weight of the given path (path==iterable of nodes' names)\n",
    "        if len(path) == 0 or not all(node in self for node in path):  # returns None if path is an empty iterable\n",
    "            return None                                               # or if there's a node in the path which is not in self\n",
    "        else:\n",
    "            weight_of_path = 0\n",
    "            for i in range(len(path)-1):                              # returns 0 if path consists of only 1 node\n",
    "                edge_weight = self.get_edge_weight(path[i].name, path[i+1].name)\n",
    "                if edge_weight == None:                               # returns None if path is not feasible in self\n",
    "                    return None\n",
    "                else:\n",
    "                    weight_of_path += edge_weight\n",
    "            return weight_of_path\n",
    "\n",
    "    def is_reachable(self, frm_name, to_name):  # returns True if there's a feasible path, in self, from frm_name to to_name\n",
    "        if frm_name == to_name:\n",
    "            return True\n",
    "        if not (frm_name in self and to_name in self):  \n",
    "            print('At least one of the nodes is not in the graph')\n",
    "            return None                                  # returns None if either 'frm' or 'to' are not in self \n",
    "        # starting from frm_name, parsing its neighbors. If to_name is included in neighbors, return True.\n",
    "        #                                                If not, continue parsing neighors' neighbors, and so on\n",
    "        nbr_list = [frm_name]                            # list of current node' neighbors\n",
    "        visited = [frm_name]                             # list of nodes that their neighbors were already parsed (\"visited\")\n",
    "        nbr_set = set(nbr_list)                          # for unique nodes\n",
    "        while len(nbr_set) > 0:\n",
    "            for current_name in nbr_set:\n",
    "                for nbr in self[current_name].neighbors:\n",
    "                    if nbr in self and nbr not in visited:\n",
    "                        nbr_list.append(nbr)\n",
    "            nbr_set = set(nbr_list) # set of nodes that haven't been visited yet and should be checked in the next iteration\n",
    "            if to_name in nbr_set:                                          \n",
    "                return True                              # to_name is among the neighbors - return True\n",
    "            visited.extend(nbr_set)\n",
    "            nbr_list = []\n",
    "        return False\n",
    "    \n",
    "    def find_shortest_path(self, frm_name, to_name): \n",
    "        # returns the path (as a list) from frm_name to to_name which has the minimum total weight, and the total weight.\n",
    "        # The main data structure: \n",
    "        # a dictionary whose keys are the names of the graph's nodes, and\n",
    "        #              whose values are a lists of tuples, where each tuple holds the following data:\n",
    "        #                    - checked node                                                        => nodes_names\n",
    "        #                    - weight so far from frm_name to the checked node                     => weight_list\n",
    "        #                    - the node \"checked node\" was reached from in the previous iteration  => prev_node_list\n",
    "        #                    - is_checked (True if \"current item\")                                 => is_checked_list\n",
    "        #              after each iteration, the 4 lists are \"zipped\" into the dictionary.\n",
    "        # The algorithm:\n",
    "        #     - in each iteration, for each of \"current\" node's neighbors, store the minimum path's weight to it so far\n",
    "        #     - after each iteration, the node with the \"smallest path weight\" so far is choosed as the next \"current node\"\n",
    "        #     - if current node == to_name, than it's ok to stop iterations (no more improvements for this node)\n",
    "        #     - then build the path backwards from to_name to frm_name, using the \"marks\" that were used along the way\n",
    "        if frm_name == to_name:\n",
    "            print('Starting node and ending node are the same')      \n",
    "            return [frm_name], 0      \n",
    "        if not self.is_reachable(frm_name, to_name):     # return None if there's no path between 'frm' and 'to'\n",
    "            print(\"There's no path from node {} to node {}\".format(frm_name, to_name))\n",
    "            return [None], None\n",
    "        main_dict = {}\n",
    "        visited_list = []                                # a node in the graph should be visited once at the most\n",
    "        prev_node_list = []\n",
    "        is_checked_list = []\n",
    "        current_name = frm_name\n",
    "        nodes_names = [node for node in self.nodes]      # list of names of all the nodes in self\n",
    "        \n",
    "        # first iteration\n",
    "        weight_list = [self.get_edge_weight(current_name, node) if current_name != node else 0 for node in nodes_names]\n",
    "        for i in range(len(weight_list)):\n",
    "            prev_node_list.append(None if weight_list[i] == None else current_name)\n",
    "            is_checked_list.append(True if nodes_names[i] == current_name else False)\n",
    "        main_dict[current_name] = list(zip(nodes_names, weight_list, prev_node_list, is_checked_list))\n",
    "        visited_list.append(current_name)\n",
    "\n",
    "        # next iterations \n",
    "        while not to_name in visited_list:\n",
    "            # - insert current_name to the \"visited\" list\n",
    "            # - find the lowest weight so far. current_name will be the corresponding name\n",
    "            # - define the next \"current node\" - the one with the smallest weight so far\n",
    "            prev_name = current_name\n",
    "            min_weight = -1\n",
    "            for i in range(len(weight_list)):                          # find the node with the smallest weight so far\n",
    "                if weight_list[i] != None and not is_checked_list[i]:\n",
    "                    if min_weight == -1 or weight_list[i] < min_weight:\n",
    "                        min_weight = weight_list[i]\n",
    "                        min_weight_index = i\n",
    "            current_name = nodes_names[min_weight_index]\n",
    "            weight_list = []\n",
    "            prev_node_list = []\n",
    "            is_checked_list = []\n",
    "            for i in range(len(nodes_names)):\n",
    "                if nodes_names[i] in visited_list:                     # if checked node was already visited - skip\n",
    "                    weight_list.append(None)                        \n",
    "                    prev_node_list.append(None)\n",
    "                    is_checked_list.append(False)\n",
    "                elif current_name == nodes_names[i]:                   # current node is the checked node\n",
    "                    weight_list.append(min_weight)                     # get preious value of weight\n",
    "                    prev_node_list.append(main_dict[prev_name][i][2])  # the name of the node current_name was reached from\n",
    "                    is_checked_list.append(True)                       # \"mark\" the node\n",
    "                elif not self.is_edge(current_name, nodes_names[i]):   # no edge from current to checked\n",
    "                    weight_list.append(main_dict[prev_name][i][1])     # get preious value of weight\n",
    "                    prev_node_list.append(main_dict[prev_name][i][2])  # the name of the node current_name was reached from\n",
    "                    is_checked_list.append(False)\n",
    "                else:                                                  # get new weight if smaller than previous one\n",
    "                    if main_dict[prev_name][i][1] == None or \\\n",
    "                       min_weight + self.get_edge_weight(current_name, nodes_names[i]) < main_dict[prev_name][i][1]:\n",
    "                        weight_list.append(min_weight + self.get_edge_weight(current_name, nodes_names[i]))\n",
    "                        # get new weight (min weight + weight of current edge), if smaller than previous one (improvement)\n",
    "                        prev_node_list.append(current_name)            # the name of the node current_name was reached from\n",
    "                        is_checked_list.append(False)\n",
    "                    else:\n",
    "                        weight_list.append(main_dict[prev_name][i][1])    # get preious value of weight (no improvement)\n",
    "                        prev_node_list.append(main_dict[prev_name][i][2]) # the name of the node current_name was reached from\n",
    "                        is_checked_list.append(False)\n",
    "            visited_list.append(current_name)\n",
    "            main_dict[current_name] = list(zip(nodes_names, weight_list, prev_node_list, is_checked_list))\n",
    "        # finally, build the shortest path by going backwards from to_name to frm_name, \n",
    "        #                                                                         finding the \"calling\" node at each iteration\n",
    "        node_name = to_name\n",
    "        shortest_path_list = [to_name]\n",
    "        while node_name != frm_name:\n",
    "            node_name = [tpl[2] for tpl in main_dict[node_name] if tpl[3] == True][0]   # the name of the \"calling\" node\n",
    "            shortest_path_list.insert(0, node_name)         \n",
    "        return shortest_path_list, [tpl[1] for tpl in main_dict[to_name] if tpl[3]][0]"
   ]
  },
  {
   "cell_type": "markdown",
   "metadata": {},
   "source": [
    "### Task 2 - Exemplary Usage"
   ]
  },
  {
   "cell_type": "markdown",
   "metadata": {},
   "source": [
    "#### Question 1: \n",
    "Create 3 Graph objects, each contains a different collection of nodes, which together contain all 10 nodes defined above.\n",
    "Use the \\__add()\\__ method to create a total graph.\n",
    "Graphs are created in 3 different ways (for testing the methods):\n",
    "- g1 - specific nodes are given with creation of graph\n",
    "- g2 - the graph is created with no nodes. Nodes are added using the update() method\n",
    "- g3 - certain nodes are removed from the \"original\" graph, using the remove() method             "
   ]
  },
  {
   "cell_type": "code",
   "execution_count": 14,
   "metadata": {},
   "outputs": [
    {
     "name": "stdout",
     "output_type": "stream",
     "text": [
      "Graph's name: G1\n",
      "Nodes in graph:\n",
      "   1: Node's name:  1 ; Neighbors (name:weight): {'2': 10, '4': 20, '5': 20, '6': 5, '7': 15}\n",
      "   2: Node's name:  2 ; Neighbors (name:weight): {'3': 5, '4': 10}\n",
      "   3: Node's name:  6 ; Neighbors (name:weight): {}\n",
      "   4: Node's name:  8 ; Neighbors (name:weight): {'1': 5, '2': 20, '7': 5}\n",
      "\n"
     ]
    }
   ],
   "source": [
    "g1 = Graph(\"G1\", [nodes_list[5], nodes_list[0], nodes_list[1], nodes_list[7]])\n",
    "print(g1)"
   ]
  },
  {
   "cell_type": "code",
   "execution_count": 15,
   "metadata": {},
   "outputs": [
    {
     "name": "stdout",
     "output_type": "stream",
     "text": [
      "Graph's name: G2\n",
      "Nodes in graph:\n",
      "   1: Node's name:  1 ; Neighbors (name:weight): {'2': 10, '4': 20, '5': 20, '6': 5, '7': 15}\n",
      "   2: Node's name:  3 ; Neighbors (name:weight): {'2': 15, '4': 5}\n",
      "   3: Node's name:  7 ; Neighbors (name:weight): {'6': 10}\n",
      "   4: Node's name:  9 ; Neighbors (name:weight): {'2': 15, '8': 20, '10': 10}\n",
      "   5: Node's name: 10 ; Neighbors (name:weight): {'2': 5, '3': 15}\n",
      "\n"
     ]
    }
   ],
   "source": [
    "g2 = Graph(\"G2\", [])\n",
    "g2.update(nodes_list[2])\n",
    "g2.update(nodes_list[8])\n",
    "g2.update(nodes_list[0])\n",
    "g2.update(nodes_list[9])\n",
    "g2.update(nodes_list[6])\n",
    "print(g2)"
   ]
  },
  {
   "cell_type": "code",
   "execution_count": 16,
   "metadata": {},
   "outputs": [
    {
     "name": "stdout",
     "output_type": "stream",
     "text": [
      "Graph's name: G3\n",
      "Nodes in graph:\n",
      "   1: Node's name:  4 ; Neighbors (name:weight): {'5': 10}\n",
      "   2: Node's name:  5 ; Neighbors (name:weight): {'6': 5}\n",
      "   3: Node's name:  7 ; Neighbors (name:weight): {'6': 10}\n",
      "   4: Node's name: 10 ; Neighbors (name:weight): {'2': 5, '3': 15}\n",
      "\n"
     ]
    }
   ],
   "source": [
    "g3 = Graph(\"G3\", nodes_list)\n",
    "g3.remove_node('1')\n",
    "g3.remove_node('2')\n",
    "g3.remove_node('3')\n",
    "g3.remove_node('6')\n",
    "g3.remove_node('8')\n",
    "g3.remove_node('9')\n",
    "print(g3)"
   ]
  },
  {
   "cell_type": "code",
   "execution_count": 17,
   "metadata": {},
   "outputs": [
    {
     "name": "stdout",
     "output_type": "stream",
     "text": [
      "Graph's name: G1_G2_G3\n",
      "Nodes in graph:\n",
      "   1: Node's name:  1 ; Neighbors (name:weight): {'2': 10, '4': 20, '5': 20, '6': 5, '7': 15}\n",
      "   2: Node's name:  2 ; Neighbors (name:weight): {'3': 5, '4': 10}\n",
      "   3: Node's name:  3 ; Neighbors (name:weight): {'2': 15, '4': 5}\n",
      "   4: Node's name:  4 ; Neighbors (name:weight): {'5': 10}\n",
      "   5: Node's name:  5 ; Neighbors (name:weight): {'6': 5}\n",
      "   6: Node's name:  6 ; Neighbors (name:weight): {}\n",
      "   7: Node's name:  7 ; Neighbors (name:weight): {'6': 10}\n",
      "   8: Node's name:  8 ; Neighbors (name:weight): {'1': 5, '2': 20, '7': 5}\n",
      "   9: Node's name:  9 ; Neighbors (name:weight): {'2': 15, '8': 20, '10': 10}\n",
      "  10: Node's name: 10 ; Neighbors (name:weight): {'2': 5, '3': 15}\n",
      "\n"
     ]
    }
   ],
   "source": [
    "full_graph = g1 + g2 + g3\n",
    "print(full_graph)"
   ]
  },
  {
   "cell_type": "code",
   "execution_count": 18,
   "metadata": {},
   "outputs": [
    {
     "name": "stdout",
     "output_type": "stream",
     "text": [
      "merged graph's nodes equal to original graph's nodes: True\n"
     ]
    }
   ],
   "source": [
    "#check if merged graph is identical to the \"original\" graph\n",
    "print(\"merged graph's nodes equal to original graph's nodes:\", \n",
    "      full_graph.nodes == Graph(\"Original graph\", nodes_list).nodes)"
   ]
  },
  {
   "cell_type": "markdown",
   "metadata": {},
   "source": [
    "#### Question 2 - Tests"
   ]
  },
  {
   "cell_type": "markdown",
   "metadata": {},
   "source": [
    "##### Test find_shortest_path method"
   ]
  },
  {
   "cell_type": "code",
   "execution_count": 19,
   "metadata": {},
   "outputs": [
    {
     "name": "stdout",
     "output_type": "stream",
     "text": [
      "Graph's name: G1_G2_G3\n",
      "Nodes in graph:\n",
      "   1: Node's name:  1 ; Neighbors (name:weight): {'2': 10, '4': 20, '5': 20, '6': 5, '7': 15}\n",
      "   2: Node's name:  2 ; Neighbors (name:weight): {'3': 5, '4': 10}\n",
      "   3: Node's name:  3 ; Neighbors (name:weight): {'2': 15, '4': 5}\n",
      "   4: Node's name:  4 ; Neighbors (name:weight): {'5': 10}\n",
      "   5: Node's name:  5 ; Neighbors (name:weight): {'6': 5}\n",
      "   6: Node's name:  6 ; Neighbors (name:weight): {}\n",
      "   7: Node's name:  7 ; Neighbors (name:weight): {'6': 10}\n",
      "   8: Node's name:  8 ; Neighbors (name:weight): {'1': 5, '2': 20, '7': 5}\n",
      "   9: Node's name:  9 ; Neighbors (name:weight): {'2': 15, '8': 20, '10': 10}\n",
      "  10: Node's name: 10 ; Neighbors (name:weight): {'2': 5, '3': 15}\n",
      "\n"
     ]
    }
   ],
   "source": [
    "print(full_graph)"
   ]
  },
  {
   "cell_type": "code",
   "execution_count": 20,
   "metadata": {},
   "outputs": [
    {
     "name": "stdout",
     "output_type": "stream",
     "text": [
      "At least one of the nodes is not in the graph\n",
      "There's no path from node 6 to node n22\n",
      "([None], None)\n"
     ]
    }
   ],
   "source": [
    "# at least one of the nodes is not in the graph\n",
    "print(full_graph.find_shortest_path(nodes_list[5].name, 'n22'))"
   ]
  },
  {
   "cell_type": "code",
   "execution_count": 21,
   "metadata": {},
   "outputs": [
    {
     "name": "stdout",
     "output_type": "stream",
     "text": [
      "Starting node and ending node are the same\n",
      "(['8'], 0)\n"
     ]
    }
   ],
   "source": [
    "# from == to\n",
    "print(full_graph.find_shortest_path(nodes_list[7].name, nodes_list[7].name))"
   ]
  },
  {
   "cell_type": "code",
   "execution_count": 22,
   "metadata": {},
   "outputs": [
    {
     "name": "stdout",
     "output_type": "stream",
     "text": [
      "(['9', '2', '4', '5'], 35)\n",
      "(['1', '6'], 5)\n",
      "(['10', '2', '4', '5', '6'], 30)\n"
     ]
    }
   ],
   "source": [
    "# feasible 3 paths\n",
    "print(full_graph.find_shortest_path(nodes_list[8].name, nodes_list[4].name))\n",
    "print(full_graph.find_shortest_path(nodes_list[0].name, nodes_list[5].name))\n",
    "print(full_graph.find_shortest_path(nodes_list[9].name, nodes_list[5].name))"
   ]
  },
  {
   "cell_type": "markdown",
   "metadata": {},
   "source": [
    "##### Test is_reachable method"
   ]
  },
  {
   "cell_type": "code",
   "execution_count": 23,
   "metadata": {},
   "outputs": [
    {
     "name": "stdout",
     "output_type": "stream",
     "text": [
      "True\n",
      "At least one of the nodes is not in the graph\n",
      "None\n",
      "True\n",
      "True\n",
      "True\n",
      "True\n",
      "False\n",
      "False\n"
     ]
    }
   ],
   "source": [
    "n22 = Node('22')\n",
    "print(full_graph.is_reachable(nodes_list[2].name, nodes_list[2].name))   # from == to (return True)\n",
    "print(full_graph.is_reachable(n22.name, nodes_list[2].name))      # frm_name is not in the graph (print a msg and return None)\n",
    "print(full_graph.is_reachable(nodes_list[0].name, nodes_list[1].name))   # path between neighbors (return True)\n",
    "print(full_graph.is_reachable(nodes_list[8].name, nodes_list[4].name))   # feasible path between nodes which are not neighbors\n",
    "print(full_graph.is_reachable(nodes_list[7].name, nodes_list[2].name))   # feasible path between nodes which are not neighbors\n",
    "print(full_graph.is_reachable(nodes_list[8].name, nodes_list[6].name))   # feasible path between nodes which are not neighbors\n",
    "print(full_graph.is_reachable(nodes_list[0].name, nodes_list[9].name))   # no path\n",
    "print(full_graph.is_reachable(nodes_list[5].name, nodes_list[9].name))   # no path"
   ]
  },
  {
   "cell_type": "markdown",
   "metadata": {},
   "source": [
    "##### Test get_path_weight method"
   ]
  },
  {
   "cell_type": "code",
   "execution_count": 24,
   "metadata": {},
   "outputs": [
    {
     "name": "stdout",
     "output_type": "stream",
     "text": [
      "path weight: None\n"
     ]
    }
   ],
   "source": [
    "# empty path - return None\n",
    "print('path weight:', full_graph.get_path_weight({}))                                               "
   ]
  },
  {
   "cell_type": "code",
   "execution_count": 25,
   "metadata": {},
   "outputs": [
    {
     "name": "stdout",
     "output_type": "stream",
     "text": [
      "path weight: 0\n"
     ]
    }
   ],
   "source": [
    "# only one node in path - return 0\n",
    "print('path weight:', full_graph.get_path_weight([nodes_list[2]]))                          "
   ]
  },
  {
   "cell_type": "code",
   "execution_count": 26,
   "metadata": {},
   "outputs": [
    {
     "name": "stdout",
     "output_type": "stream",
     "text": [
      "path weight: None\n"
     ]
    }
   ],
   "source": [
    "# a node in the path is not in the graph - return None\n",
    "n21 = Node('21')\n",
    "print('path weight:', full_graph.get_path_weight([nodes_list[1], n21]))"
   ]
  },
  {
   "cell_type": "code",
   "execution_count": 27,
   "metadata": {},
   "outputs": [
    {
     "name": "stdout",
     "output_type": "stream",
     "text": [
      "given path: \n",
      "Node's name:  2 ; Neighbors (name:weight): {'3': 5, '4': 10}\n",
      "Node's name:  3 ; Neighbors (name:weight): {'2': 15, '4': 5}\n",
      "Node's name:  1 ; Neighbors (name:weight): {'2': 10, '4': 20, '5': 20, '6': 5, '7': 15}\n",
      "path weight: None\n"
     ]
    }
   ],
   "source": [
    "# no path - return None\n",
    "print('given path: \\n{}\\n{}\\n{}'.format(nodes_list[1], nodes_list[2], nodes_list[0]))                   \n",
    "print('path weight:', full_graph.get_path_weight([nodes_list[1], nodes_list[2], nodes_list[0]]))"
   ]
  },
  {
   "cell_type": "code",
   "execution_count": 28,
   "metadata": {},
   "outputs": [
    {
     "name": "stdout",
     "output_type": "stream",
     "text": [
      "given path: \n",
      "Node's name:  2 ; Neighbors (name:weight): {'3': 5, '4': 10}\n",
      "Node's name:  3 ; Neighbors (name:weight): {'2': 15, '4': 5}\n",
      "Node's name:  4 ; Neighbors (name:weight): {'5': 10}\n",
      "Node's name:  5 ; Neighbors (name:weight): {'6': 5}\n",
      "path weight: 25\n"
     ]
    }
   ],
   "source": [
    "# feasible path\n",
    "print('given path: \\n{}\\n{}\\n{}\\n{}'.format(nodes_list[1], nodes_list[2], nodes_list[3], nodes_list[4], nodes_list[5]))  \n",
    "print('path weight:', full_graph.get_path_weight([nodes_list[1], nodes_list[2], nodes_list[3], nodes_list[4], nodes_list[5]]))"
   ]
  },
  {
   "cell_type": "code",
   "execution_count": 29,
   "metadata": {},
   "outputs": [
    {
     "name": "stdout",
     "output_type": "stream",
     "text": [
      "given path: \n",
      "Node's name:  2 ; Neighbors (name:weight): {'3': 5, '4': 10}\n",
      "Node's name:  3 ; Neighbors (name:weight): {'2': 15, '4': 5}\n",
      "Node's name:  2 ; Neighbors (name:weight): {'3': 5, '4': 10}\n",
      "Node's name:  4 ; Neighbors (name:weight): {'5': 10}\n",
      "path weight: 30\n"
     ]
    }
   ],
   "source": [
    "# feasible path (with cycle)\n",
    "print('given path: \\n{}\\n{}\\n{}\\n{}'.format(nodes_list[1], nodes_list[2], nodes_list[1], nodes_list[3]))   \n",
    "print('path weight:', full_graph.get_path_weight([nodes_list[1], nodes_list[2], nodes_list[1], nodes_list[3]]))"
   ]
  },
  {
   "cell_type": "markdown",
   "metadata": {},
   "source": [
    "##### Test \\__len\\__ method"
   ]
  },
  {
   "cell_type": "code",
   "execution_count": 30,
   "metadata": {},
   "outputs": [
    {
     "name": "stdout",
     "output_type": "stream",
     "text": [
      "10\n"
     ]
    }
   ],
   "source": [
    "print(len(full_graph))                     # should return 10"
   ]
  },
  {
   "cell_type": "code",
   "execution_count": 31,
   "metadata": {},
   "outputs": [
    {
     "name": "stdout",
     "output_type": "stream",
     "text": [
      "True\n",
      "True\n",
      "False\n"
     ]
    }
   ],
   "source": [
    "# Test __contains__ method\n",
    "print(nodes_list[1] in full_graph)         # key argument is a Node - return True\n",
    "print(nodes_list[1].name in full_graph)    # key argument is a Node's name - return True\n",
    "test_node = Node('test')\n",
    "print(test_node in full_graph   )          # key argument is a Node, which is not in g1 - return False"
   ]
  },
  {
   "cell_type": "code",
   "execution_count": 32,
   "metadata": {},
   "outputs": [
    {
     "name": "stdout",
     "output_type": "stream",
     "text": [
      "Node's name:  2 ; Neighbors (name:weight): {'3': 5, '4': 10}\n"
     ]
    },
    {
     "ename": "KeyError",
     "evalue": "\"A Node whose name is 'test' is not in the graph\"",
     "output_type": "error",
     "traceback": [
      "\u001b[1;31m---------------------------------------------------------------------------\u001b[0m",
      "\u001b[1;31mKeyError\u001b[0m                                  Traceback (most recent call last)",
      "\u001b[1;32m<ipython-input-32-b8b1b2553d2e>\u001b[0m in \u001b[0;36m<module>\u001b[1;34m()\u001b[0m\n\u001b[0;32m      1\u001b[0m \u001b[1;31m# Test __getitem__ method\u001b[0m\u001b[1;33m\u001b[0m\u001b[1;33m\u001b[0m\u001b[0m\n\u001b[0;32m      2\u001b[0m \u001b[0mprint\u001b[0m\u001b[1;33m(\u001b[0m\u001b[0mfull_graph\u001b[0m\u001b[1;33m[\u001b[0m\u001b[0mnodes_list\u001b[0m\u001b[1;33m[\u001b[0m\u001b[1;36m1\u001b[0m\u001b[1;33m]\u001b[0m\u001b[1;33m.\u001b[0m\u001b[0mname\u001b[0m\u001b[1;33m]\u001b[0m\u001b[1;33m)\u001b[0m      \u001b[1;31m# the node is in the graph - print it\u001b[0m\u001b[1;33m\u001b[0m\u001b[0m\n\u001b[1;32m----> 3\u001b[1;33m \u001b[0mprint\u001b[0m\u001b[1;33m(\u001b[0m\u001b[0mfull_graph\u001b[0m\u001b[1;33m[\u001b[0m\u001b[0mtest_node\u001b[0m\u001b[1;33m.\u001b[0m\u001b[0mname\u001b[0m\u001b[1;33m]\u001b[0m\u001b[1;33m)\u001b[0m          \u001b[1;31m# the node is not in the graph - raise KeyError\u001b[0m\u001b[1;33m\u001b[0m\u001b[0m\n\u001b[0m",
      "\u001b[1;32m<ipython-input-13-37d92efb2d30>\u001b[0m in \u001b[0;36m__getitem__\u001b[1;34m(self, name)\u001b[0m\n\u001b[0;32m     22\u001b[0m     \u001b[1;32mdef\u001b[0m \u001b[0m__getitem__\u001b[0m\u001b[1;33m(\u001b[0m\u001b[0mself\u001b[0m\u001b[1;33m,\u001b[0m \u001b[0mname\u001b[0m\u001b[1;33m)\u001b[0m\u001b[1;33m:\u001b[0m              \u001b[1;31m# return the Node object whose name is name\u001b[0m\u001b[1;33m\u001b[0m\u001b[0m\n\u001b[0;32m     23\u001b[0m         \u001b[1;32mif\u001b[0m \u001b[1;32mnot\u001b[0m \u001b[0mname\u001b[0m \u001b[1;32min\u001b[0m \u001b[0mself\u001b[0m\u001b[1;33m:\u001b[0m\u001b[1;33m\u001b[0m\u001b[0m\n\u001b[1;32m---> 24\u001b[1;33m             \u001b[1;32mraise\u001b[0m \u001b[0mKeyError\u001b[0m\u001b[1;33m(\u001b[0m\u001b[1;34m\"A Node whose name is '\"\u001b[0m \u001b[1;33m+\u001b[0m \u001b[0mstr\u001b[0m\u001b[1;33m(\u001b[0m\u001b[0mname\u001b[0m\u001b[1;33m)\u001b[0m \u001b[1;33m+\u001b[0m \u001b[1;34m\"' is not in the graph\"\u001b[0m\u001b[1;33m)\u001b[0m\u001b[1;33m\u001b[0m\u001b[0m\n\u001b[0m\u001b[0;32m     25\u001b[0m         \u001b[1;32mreturn\u001b[0m \u001b[0mself\u001b[0m\u001b[1;33m.\u001b[0m\u001b[0mnodes\u001b[0m\u001b[1;33m[\u001b[0m\u001b[0mname\u001b[0m\u001b[1;33m]\u001b[0m\u001b[1;33m\u001b[0m\u001b[0m\n\u001b[0;32m     26\u001b[0m \u001b[1;33m\u001b[0m\u001b[0m\n",
      "\u001b[1;31mKeyError\u001b[0m: \"A Node whose name is 'test' is not in the graph\""
     ]
    }
   ],
   "source": [
    "# Test __getitem__ method\n",
    "print(full_graph[nodes_list[1].name])      # the node is in the graph - print it\n",
    "print(full_graph[test_node.name])          # the node is not in the graph - raise KeyError"
   ]
  },
  {
   "cell_type": "markdown",
   "metadata": {},
   "source": [
    "##### Test update and remove methods"
   ]
  },
  {
   "cell_type": "code",
   "execution_count": 33,
   "metadata": {},
   "outputs": [
    {
     "name": "stdout",
     "output_type": "stream",
     "text": [
      "Graph's name: G1_G2_G3\n",
      "Nodes in graph:\n",
      "   1: Node's name:  1 ; Neighbors (name:weight): {'2': 10, '4': 20, '5': 20, '6': 5, '7': 15}\n",
      "   2: Node's name:  2 ; Neighbors (name:weight): {'3': 5, '4': 10}\n",
      "   3: Node's name:  3 ; Neighbors (name:weight): {'2': 15, '4': 5}\n",
      "   4: Node's name:  4 ; Neighbors (name:weight): {'5': 10}\n",
      "   5: Node's name:  5 ; Neighbors (name:weight): {'6': 5}\n",
      "   6: Node's name:  6 ; Neighbors (name:weight): {}\n",
      "   7: Node's name:  7 ; Neighbors (name:weight): {'6': 10}\n",
      "   8: Node's name:  8 ; Neighbors (name:weight): {'1': 5, '2': 20, '7': 5}\n",
      "   9: Node's name:  9 ; Neighbors (name:weight): {'2': 15, '8': 20, '10': 10}\n",
      "  10: Node's name: 10 ; Neighbors (name:weight): {'2': 5, '3': 15}\n",
      "\n"
     ]
    }
   ],
   "source": [
    "print(full_graph)"
   ]
  },
  {
   "cell_type": "code",
   "execution_count": 34,
   "metadata": {},
   "outputs": [
    {
     "name": "stdout",
     "output_type": "stream",
     "text": [
      "full_graph w/o 3 and 6\n",
      "Graph's name: G1_G2_G3\n",
      "Nodes in graph:\n",
      "   1: Node's name:  1 ; Neighbors (name:weight): {'2': 10, '4': 20, '5': 20, '6': 5, '7': 15}\n",
      "   2: Node's name:  2 ; Neighbors (name:weight): {'3': 5, '4': 10}\n",
      "   3: Node's name:  4 ; Neighbors (name:weight): {'5': 10}\n",
      "   4: Node's name:  5 ; Neighbors (name:weight): {'6': 5}\n",
      "   5: Node's name:  7 ; Neighbors (name:weight): {'6': 10}\n",
      "   6: Node's name:  8 ; Neighbors (name:weight): {'1': 5, '2': 20, '7': 5}\n",
      "   7: Node's name:  9 ; Neighbors (name:weight): {'2': 15, '8': 20, '10': 10}\n",
      "   8: Node's name: 10 ; Neighbors (name:weight): {'2': 5, '3': 15}\n",
      "\n"
     ]
    }
   ],
   "source": [
    "full_graph.remove_node('3')\n",
    "full_graph.remove_node('6')\n",
    "print('full_graph w/o 3 and 6')\n",
    "print(full_graph)\n",
    "full_graph.remove_node('6')                    # the method shouldn't fail"
   ]
  },
  {
   "cell_type": "code",
   "execution_count": 35,
   "metadata": {},
   "outputs": [
    {
     "name": "stdout",
     "output_type": "stream",
     "text": [
      "full_graph with 21 (10:10, 31:10)\n",
      "Graph's name: G1_G2_G3\n",
      "Nodes in graph:\n",
      "   1: Node's name:  1 ; Neighbors (name:weight): {'2': 10, '4': 20, '5': 20, '6': 5, '7': 15}\n",
      "   2: Node's name:  2 ; Neighbors (name:weight): {'3': 5, '4': 10}\n",
      "   3: Node's name:  4 ; Neighbors (name:weight): {'5': 10}\n",
      "   4: Node's name:  5 ; Neighbors (name:weight): {'6': 5}\n",
      "   5: Node's name:  7 ; Neighbors (name:weight): {'6': 10}\n",
      "   6: Node's name:  8 ; Neighbors (name:weight): {'1': 5, '2': 20, '7': 5}\n",
      "   7: Node's name:  9 ; Neighbors (name:weight): {'2': 15, '8': 20, '10': 10}\n",
      "   8: Node's name: 10 ; Neighbors (name:weight): {'2': 5, '3': 15}\n",
      "   9: Node's name: 21 ; Neighbors (name:weight): {'10': 10, '31': 10}\n",
      "\n"
     ]
    }
   ],
   "source": [
    "n21 = Node('21')\n",
    "n22 = Node('22')\n",
    "n21.update('10', 10)\n",
    "n21.update('31', 10)\n",
    "full_graph.update(n21)                         # add node '21' to g2\n",
    "print('full_graph with 21 (10:10, 31:10)')\n",
    "print(full_graph)"
   ]
  },
  {
   "cell_type": "code",
   "execution_count": 36,
   "metadata": {},
   "outputs": [
    {
     "name": "stdout",
     "output_type": "stream",
     "text": [
      "full_graph with 21 (10:90, 31:10) and 22 (1:50, 2:60)\n",
      "Graph's name: G1_G2_G3\n",
      "Nodes in graph:\n",
      "   1: Node's name:  1 ; Neighbors (name:weight): {'2': 10, '4': 20, '5': 20, '6': 5, '7': 15}\n",
      "   2: Node's name:  2 ; Neighbors (name:weight): {'3': 5, '4': 10}\n",
      "   3: Node's name:  4 ; Neighbors (name:weight): {'5': 10}\n",
      "   4: Node's name:  5 ; Neighbors (name:weight): {'6': 5}\n",
      "   5: Node's name:  7 ; Neighbors (name:weight): {'6': 10}\n",
      "   6: Node's name:  8 ; Neighbors (name:weight): {'1': 5, '2': 20, '7': 40}\n",
      "   7: Node's name:  9 ; Neighbors (name:weight): {'2': 15, '8': 20, '10': 10}\n",
      "   8: Node's name: 10 ; Neighbors (name:weight): {'2': 5, '3': 15}\n",
      "   9: Node's name: 21 ; Neighbors (name:weight): {'10': 90, '31': 10}\n",
      "  10: Node's name: 22 ; Neighbors (name:weight): {'1': 50, '2': 60}\n",
      "\n"
     ]
    }
   ],
   "source": [
    "n22.update('1', 50)                            # add neighbors to node '22'\n",
    "n22.update('2', 60)\n",
    "nodes_list[7].update(nodes_list[6].name, 40)   # update weight of edge from '8' to '7'\n",
    "n21.update('10', 90)                           # new edge from '21' to '10'\n",
    "full_graph.update(n21)                         # update the graph\n",
    "full_graph.update(n22)\n",
    "print('full_graph with 21 (10:90, 31:10) and 22 (1:50, 2:60)')\n",
    "print(full_graph)"
   ]
  },
  {
   "cell_type": "markdown",
   "metadata": {},
   "source": [
    "##### Test is_edge and remove_node methods"
   ]
  },
  {
   "cell_type": "code",
   "execution_count": 37,
   "metadata": {},
   "outputs": [
    {
     "name": "stdout",
     "output_type": "stream",
     "text": [
      "True\n"
     ]
    }
   ],
   "source": [
    "n22.update('1', 50)      \n",
    "n22.update('2', 60)\n",
    "full_graph.update(n21)\n",
    "full_graph.update(n22)\n",
    "print(full_graph.is_edge('22','2'))   # 2 is a neighbor of 22 - return True"
   ]
  },
  {
   "cell_type": "code",
   "execution_count": 38,
   "metadata": {},
   "outputs": [
    {
     "name": "stdout",
     "output_type": "stream",
     "text": [
      "None\n"
     ]
    }
   ],
   "source": [
    "print(g3.is_edge('22','2'))           # node 22 does not exist in g3 - return None"
   ]
  },
  {
   "cell_type": "code",
   "execution_count": 39,
   "metadata": {},
   "outputs": [
    {
     "name": "stdout",
     "output_type": "stream",
     "text": [
      "False\n"
     ]
    }
   ],
   "source": [
    "print(full_graph.is_edge('21','22'))  # no edge from 21 to 22 - return False"
   ]
  },
  {
   "cell_type": "code",
   "execution_count": 40,
   "metadata": {},
   "outputs": [
    {
     "name": "stdout",
     "output_type": "stream",
     "text": [
      "Graph's name: G1_G2_G3\n",
      "Nodes in graph:\n",
      "   1: Node's name:  2 ; Neighbors (name:weight): {'3': 5, '4': 10}\n",
      "   2: Node's name:  4 ; Neighbors (name:weight): {'5': 10}\n",
      "   3: Node's name:  5 ; Neighbors (name:weight): {'6': 5}\n",
      "   4: Node's name:  7 ; Neighbors (name:weight): {'6': 10}\n",
      "   5: Node's name:  8 ; Neighbors (name:weight): {'1': 5, '2': 20, '7': 40}\n",
      "   6: Node's name:  9 ; Neighbors (name:weight): {'2': 15, '8': 20, '10': 10}\n",
      "   7: Node's name: 10 ; Neighbors (name:weight): {'2': 5, '3': 15}\n",
      "   8: Node's name: 21 ; Neighbors (name:weight): {'10': 90, '31': 10}\n",
      "   9: Node's name: 22 ; Neighbors (name:weight): {'1': 50, '2': 60}\n",
      "\n"
     ]
    }
   ],
   "source": [
    "full_graph.remove_node('1')           # node '1' is removed from full_graph. however edges to '1' still exist\n",
    "print(full_graph)"
   ]
  },
  {
   "cell_type": "code",
   "execution_count": 41,
   "metadata": {},
   "outputs": [
    {
     "name": "stdout",
     "output_type": "stream",
     "text": [
      "None\n"
     ]
    }
   ],
   "source": [
    "print(full_graph.is_edge('1','5'))    # node 1 was removed. return None"
   ]
  },
  {
   "cell_type": "code",
   "execution_count": 42,
   "metadata": {},
   "outputs": [
    {
     "name": "stdout",
     "output_type": "stream",
     "text": [
      "True\n"
     ]
    }
   ],
   "source": [
    "print(full_graph.is_edge('7','6'))    # 6 is a neighbor of 7, althought not in the graph - return True"
   ]
  },
  {
   "cell_type": "code",
   "execution_count": 43,
   "metadata": {},
   "outputs": [],
   "source": [
    "full_graph.update(nodes_list[0])     "
   ]
  },
  {
   "cell_type": "markdown",
   "metadata": {},
   "source": [
    "##### Test add_edge, get_edge_weight and remove_edge methods"
   ]
  },
  {
   "cell_type": "code",
   "execution_count": 44,
   "metadata": {},
   "outputs": [
    {
     "name": "stdout",
     "output_type": "stream",
     "text": [
      "Graph's name: G1_G2_G3\n",
      "Nodes in graph:\n",
      "   1: Node's name:  1 ; Neighbors (name:weight): {'2': 10, '4': 20, '5': 20, '6': 5, '7': 15}\n",
      "   2: Node's name:  2 ; Neighbors (name:weight): {'3': 5, '4': 10}\n",
      "   3: Node's name:  4 ; Neighbors (name:weight): {'5': 10}\n",
      "   4: Node's name:  5 ; Neighbors (name:weight): {'6': 5}\n",
      "   5: Node's name:  7 ; Neighbors (name:weight): {'6': 10}\n",
      "   6: Node's name:  8 ; Neighbors (name:weight): {'1': 5, '2': 20, '7': 40}\n",
      "   7: Node's name:  9 ; Neighbors (name:weight): {'2': 15, '8': 20, '10': 10}\n",
      "   8: Node's name: 10 ; Neighbors (name:weight): {'2': 5, '3': 15}\n",
      "   9: Node's name: 21 ; Neighbors (name:weight): {'10': 90, '31': 10}\n",
      "  10: Node's name: 22 ; Neighbors (name:weight): {'1': 50, '2': 60}\n",
      "\n"
     ]
    }
   ],
   "source": [
    "print(full_graph)"
   ]
  },
  {
   "cell_type": "code",
   "execution_count": 45,
   "metadata": {},
   "outputs": [
    {
     "name": "stdout",
     "output_type": "stream",
     "text": [
      "15\n"
     ]
    }
   ],
   "source": [
    "print(full_graph.get_edge_weight(nodes_list[8].name, nodes_list[1].name))  # should return 15"
   ]
  },
  {
   "cell_type": "code",
   "execution_count": 46,
   "metadata": {},
   "outputs": [],
   "source": [
    "# Adding a neighbor to a node which has the same name, is not allowed\n",
    "full_graph.add_edge(nodes_list[5].name, nodes_list[5].name, 66)   "
   ]
  },
  {
   "cell_type": "code",
   "execution_count": 47,
   "metadata": {},
   "outputs": [],
   "source": [
    "# trying to add an edge to a node which is not in the graph - should not fail\n",
    "n23 = Node('23')\n",
    "full_graph.add_edge(nodes_list[5].name, n23.name, 623)            "
   ]
  },
  {
   "cell_type": "code",
   "execution_count": 48,
   "metadata": {},
   "outputs": [
    {
     "name": "stdout",
     "output_type": "stream",
     "text": [
      "32\n"
     ]
    }
   ],
   "source": [
    "# edge from 8 to 2 exists - update weight from 20 to 32\n",
    "full_graph.add_edge(nodes_list[7].name, nodes_list[1].name, 32)\n",
    "\n",
    "print(full_graph.get_edge_weight(nodes_list[7].name, nodes_list[1].name))  # should return 32"
   ]
  },
  {
   "cell_type": "code",
   "execution_count": 49,
   "metadata": {},
   "outputs": [
    {
     "name": "stdout",
     "output_type": "stream",
     "text": [
      "Graph's name: G1_G2_G3\n",
      "Nodes in graph:\n",
      "   1: Node's name:  1 ; Neighbors (name:weight): {'2': 10, '4': 20, '5': 20, '6': 5, '7': 15}\n",
      "   2: Node's name:  2 ; Neighbors (name:weight): {'3': 5, '4': 10}\n",
      "   3: Node's name:  4 ; Neighbors (name:weight): {'5': 10}\n",
      "   4: Node's name:  5 ; Neighbors (name:weight): {'6': 5, '7': 57}\n",
      "   5: Node's name:  6 ; Neighbors (name:weight): {'7': 78}\n",
      "   6: Node's name:  7 ; Neighbors (name:weight): {'6': 10}\n",
      "   7: Node's name:  8 ; Neighbors (name:weight): {'1': 5, '2': 32, '7': 40}\n",
      "   8: Node's name:  9 ; Neighbors (name:weight): {'2': 15, '8': 20, '10': 10}\n",
      "   9: Node's name: 10 ; Neighbors (name:weight): {'2': 5, '3': 15}\n",
      "  10: Node's name: 21 ; Neighbors (name:weight): {'10': 90, '31': 10}\n",
      "  11: Node's name: 22 ; Neighbors (name:weight): {'1': 50, '2': 60}\n",
      "\n"
     ]
    }
   ],
   "source": [
    "# edge from 5 to 7 does not exist - add it\n",
    "full_graph.add_edge(nodes_list[4].name, nodes_list[6].name, 57)\n",
    "\n",
    "full_graph.update(nodes_list[5])\n",
    "# edge from 6 to 7 does not exist - add it (first neighbor for 6)\n",
    "full_graph.add_edge(nodes_list[5].name, nodes_list[6].name, 78) \n",
    "\n",
    "print(full_graph)"
   ]
  },
  {
   "cell_type": "code",
   "execution_count": 50,
   "metadata": {},
   "outputs": [],
   "source": [
    "# trying to remove an edge from a node which is not in the graph - should not fail\n",
    "full_graph.remove_edge(n23.name, nodes_list[6].name)"
   ]
  },
  {
   "cell_type": "code",
   "execution_count": 51,
   "metadata": {},
   "outputs": [],
   "source": [
    "# trying to find edge's weight from a node which is not in the graph - should not fail\n",
    "full_graph.get_edge_weight(n23.name, nodes_list[6].name) "
   ]
  },
  {
   "cell_type": "code",
   "execution_count": 52,
   "metadata": {},
   "outputs": [],
   "source": [
    "# trying to remove an edge to a node which is not neighbor - should not fail\n",
    "full_graph.remove_edge(nodes_list[5].name, nodes_list[8].name)    "
   ]
  },
  {
   "cell_type": "code",
   "execution_count": 53,
   "metadata": {},
   "outputs": [
    {
     "name": "stdout",
     "output_type": "stream",
     "text": [
      "None\n"
     ]
    }
   ],
   "source": [
    "# trying to find a weight of a non-existing edge - return None\n",
    "print(full_graph.get_edge_weight(nodes_list[5].name, nodes_list[8].name)) "
   ]
  },
  {
   "cell_type": "code",
   "execution_count": 54,
   "metadata": {},
   "outputs": [
    {
     "name": "stdout",
     "output_type": "stream",
     "text": [
      "Graph's name: G1_G2_G3\n",
      "Nodes in graph:\n",
      "   1: Node's name:  1 ; Neighbors (name:weight): {'2': 10, '4': 20, '5': 20, '6': 5, '7': 15}\n",
      "   2: Node's name:  2 ; Neighbors (name:weight): {'3': 5, '4': 10}\n",
      "   3: Node's name:  4 ; Neighbors (name:weight): {'5': 10}\n",
      "   4: Node's name:  5 ; Neighbors (name:weight): {'6': 5}\n",
      "   5: Node's name:  6 ; Neighbors (name:weight): {'7': 78}\n",
      "   6: Node's name:  7 ; Neighbors (name:weight): {'6': 10}\n",
      "   7: Node's name:  8 ; Neighbors (name:weight): {'1': 5, '2': 32, '7': 40}\n",
      "   8: Node's name:  9 ; Neighbors (name:weight): {'2': 15, '8': 20, '10': 10}\n",
      "   9: Node's name: 10 ; Neighbors (name:weight): {'2': 5, '3': 15}\n",
      "\n"
     ]
    }
   ],
   "source": [
    "full_graph.remove_edge(nodes_list[4].name, nodes_list[6].name)    # remove edge from 5 to 7\n",
    "full_graph.remove_edge(nodes_list[6].name, nodes_list[7].name)    # remove edge from 7 to 8\n",
    "full_graph.remove_node('21')\n",
    "full_graph.remove_node('22')\n",
    "print(full_graph)"
   ]
  },
  {
   "cell_type": "markdown",
   "metadata": {},
   "source": [
    "#### Question 3 - Sort the nodes by the number of their reachable nodes"
   ]
  },
  {
   "cell_type": "code",
   "execution_count": 55,
   "metadata": {},
   "outputs": [
    {
     "name": "stdout",
     "output_type": "stream",
     "text": [
      "[('2', 4), ('8', 6), ('9', 8), ('10', 5), ('7', 1), ('4', 3), ('5', 2), ('1', 5), ('6', 1)]\n",
      "[('9', 8), ('8', 6), ('10', 5), ('1', 5), ('2', 4), ('4', 3), ('5', 2), ('7', 1), ('6', 1)]\n"
     ]
    }
   ],
   "source": [
    "def find_num_of_reachable_nodes(nodes_in_graph):         \n",
    "# returns a list of tuples: (node name, number of reachable nodes from the node), using the Graph's method is_reachable\n",
    "    reachable_list = []  \n",
    "    for from_node in nodes_in_graph:\n",
    "        counter = 0\n",
    "        for to_node in nodes_in_graph:\n",
    "            counter += (from_node != to_node and full_graph.is_reachable(from_node, to_node))\n",
    "        reachable_list.append(counter)\n",
    "    return list(zip(nodes_in_graph, reachable_list))\n",
    "\n",
    "# num_of_reachable_nodes will hold a list of tuples: (node, number of reachable nodes from the node)\n",
    "# the argument to the function is a list of full_graph's nodes (by now it might be different than original nodes_list)\n",
    "num_of_reachable_nodes = find_num_of_reachable_nodes([node.name for node in full_graph.nodes.values()])\n",
    "print(num_of_reachable_nodes)                                             # print before sort\n",
    "num_of_reachable_nodes.sort(key = lambda node: node[1], reverse=True)     # sort in descending order\n",
    "print(num_of_reachable_nodes)                                             # print after sort \n"
   ]
  },
  {
   "cell_type": "markdown",
   "metadata": {},
   "source": [
    "#### Question 4 - Find the pair of nodes that the shortest path between them has the highest weight"
   ]
  },
  {
   "cell_type": "code",
   "execution_count": 56,
   "metadata": {},
   "outputs": [
    {
     "name": "stdout",
     "output_type": "stream",
     "text": [
      "There's no path from node 2 to node 8\n",
      "There's no path from node 2 to node 9\n",
      "There's no path from node 2 to node 10\n",
      "There's no path from node 2 to node 1\n",
      "There's no path from node 8 to node 9\n",
      "There's no path from node 8 to node 10\n",
      "There's no path from node 10 to node 8\n",
      "There's no path from node 10 to node 9\n",
      "There's no path from node 10 to node 1\n",
      "There's no path from node 7 to node 2\n",
      "There's no path from node 7 to node 8\n",
      "There's no path from node 7 to node 9\n",
      "There's no path from node 7 to node 10\n",
      "There's no path from node 7 to node 4\n",
      "There's no path from node 7 to node 5\n",
      "There's no path from node 7 to node 1\n",
      "There's no path from node 4 to node 2\n",
      "There's no path from node 4 to node 8\n",
      "There's no path from node 4 to node 9\n",
      "There's no path from node 4 to node 10\n",
      "There's no path from node 4 to node 1\n",
      "There's no path from node 5 to node 2\n",
      "There's no path from node 5 to node 8\n",
      "There's no path from node 5 to node 9\n",
      "There's no path from node 5 to node 10\n",
      "There's no path from node 5 to node 4\n",
      "There's no path from node 5 to node 1\n",
      "There's no path from node 1 to node 8\n",
      "There's no path from node 1 to node 9\n",
      "There's no path from node 1 to node 10\n",
      "There's no path from node 6 to node 2\n",
      "There's no path from node 6 to node 8\n",
      "There's no path from node 6 to node 9\n",
      "There's no path from node 6 to node 10\n",
      "There's no path from node 6 to node 4\n",
      "There's no path from node 6 to node 5\n",
      "There's no path from node 6 to node 1\n",
      "The pair of nodes of which the shortest path between them is the highest, is: (10, 7) \n",
      "The path is: ['10', '2', '4', '5', '6', '7'] \n",
      "The path's weight is: 108\n"
     ]
    }
   ],
   "source": [
    "# Solution: - build the list of graph's nodes (by now it might be different than the original nodes_list)\n",
    "#           - populate a list of tuples of all shortest paths in the graph, and their weights\n",
    "#           - find the shortest path which has the highest weight\n",
    "\n",
    "def find_shortest_paths(graph_instance, nodes_in_graph):         \n",
    "# returns a list of tuples: (path, weight of path), using the Graph's method find_shortest_path\n",
    "    paths_list = []  \n",
    "    for from_node in nodes_in_graph: \n",
    "        for to_node in nodes_in_graph:\n",
    "            if from_node != to_node:\n",
    "                paths_list.append(graph_instance.find_shortest_path(from_node, to_node))\n",
    "    return paths_list\n",
    "\n",
    "def find_highest_path(list_of_shortest_paths):\n",
    "# returns a tuple: the path with the highest weight among all shortest paths, and its weight\n",
    "    highest_weight = 0\n",
    "    highest_weight_path = []\n",
    "    for i in range(len(list_of_shortest_paths)):\n",
    "        if list_of_shortest_paths[i][1] != None and list_of_shortest_paths[i][1] > highest_weight:\n",
    "            highest_weight = list_of_shortest_paths[i][1]\n",
    "            highest_weight_path = list_of_shortest_paths[i][0]\n",
    "    return highest_weight_path, highest_weight\n",
    "            \n",
    "highest_path = find_highest_path(find_shortest_paths(full_graph, [node.name for node in full_graph.nodes.values()]))\n",
    "print(\"The pair of nodes of which the shortest path between them is the highest, is: ({}, {}) \\n\\\n",
    "The path is: {} \\nThe path's weight is: {}\" \\\n",
    ".format(highest_path[0][0], highest_path[0][-1], highest_path[0], highest_path[1]))"
   ]
  },
  {
   "cell_type": "markdown",
   "metadata": {},
   "source": [
    "### Task 3 - The roadmap implementation"
   ]
  },
  {
   "cell_type": "markdown",
   "metadata": {},
   "source": [
    "#### Question 1: \n",
    " a. Read files travelsEW.csv and travelsWe.csv <br>\n",
    " b. Create a graph from each file:\n",
    "    - The graph's nodes are the country regions\n",
    "    - Its edges are the roads\n",
    "    - Each edge's weight is the average time of all the travels on that road <br>\n",
    " c. Add the graphs"
   ]
  },
  {
   "cell_type": "code",
   "execution_count": 57,
   "metadata": {},
   "outputs": [],
   "source": [
    "import csv\n",
    "from os import getcwd\n",
    "from datetime import datetime\n",
    "from datetime import timedelta"
   ]
  },
  {
   "cell_type": "code",
   "execution_count": 58,
   "metadata": {},
   "outputs": [],
   "source": [
    "excel_dialect = csv.get_dialect('excel')"
   ]
  },
  {
   "cell_type": "code",
   "execution_count": 59,
   "metadata": {},
   "outputs": [],
   "source": [
    "def find_weight(rec):\n",
    "# returns None if: \n",
    "#   - empty line, \n",
    "#   - undefined from/to region, \n",
    "#   - from region == to region, \n",
    "#   - wrong datetime format or negative time differece\n",
    "# if the above is valid, checks if dates are valid. Is yes, returns time difference (in seconds) between Tstop and Tstart\n",
    "    if not rec or rec['From'] not in regions_list or rec['To'] not in regions_list or rec['From'] == rec['To']:\n",
    "        return None\n",
    "    try:\n",
    "        diff_in_sec = (datetime.strptime(rec['Tstop'], '%d/%m/%Y %Hh%Mm') - \\\n",
    "                       datetime.strptime(rec['Tstart'], '%d/%m/%Y %Hh%Mm')).seconds\n",
    "        return diff_in_sec if diff_in_sec >= 0 else None\n",
    "    except:\n",
    "        try:\n",
    "            diff_in_sec = (datetime.strptime(rec['Tstop'], '%I:%M:%S%p ; %b %d %y') - \\\n",
    "                           datetime.strptime(rec['Tstart'], '%I:%M:%S%p ; %b %d %y')).seconds\n",
    "            return diff_in_sec if diff_in_sec >= 0 else None\n",
    "        except:\n",
    "            return None   "
   ]
  },
  {
   "cell_type": "code",
   "execution_count": 60,
   "metadata": {},
   "outputs": [],
   "source": [
    "def create_graph(fpath, name_of_graph):\n",
    "    rows_dict = {}                         # a dictionary whose keys are 'FromTo's concatenation (the edges' directions) and\n",
    "                                           # each value is a list of tuples, each of them holds (From, To, time_difference)\n",
    "    list_of_regions_and_weights = []       # a list of tuples: (From, To, time_difference)\n",
    "    regions_nodes_list = []                # list of Nodes (every region \"becomes\" a Node instance)\n",
    "    with open(fpath) as f:\n",
    "        csv_reader = csv.DictReader(f)\n",
    "        for rec in csv_reader:\n",
    "            travel_time = find_weight(rec) # check validity of rec and return the time travel in seconds (or None if not valid)\n",
    "            if not travel_time:\n",
    "                continue\n",
    "            rows_dict.setdefault(rec['From'] + rec['To'],[]).append((rec['From'], rec['To'], travel_time))        \n",
    "    for edge_direction in rows_dict.keys():\n",
    "        weight_list = [t[2] for t in rows_dict[edge_direction]]         # list of time differnces for a given \"edge direction\"\n",
    "        list_of_regions_and_weights.append((rows_dict[edge_direction][0][0], rows_dict[edge_direction][0][1], \\\n",
    "                                int(sum(weight_list) / len(weight_list))))  # list of tuples: (from name, to name, avg weight)\n",
    "        if not rows_dict[edge_direction][0][0] in [node.name for node in regions_nodes_list]:\n",
    "            regions_nodes_list.append(Node(rows_dict[edge_direction][0][0]))                  # create a node for each reagion\n",
    "    for node in regions_nodes_list:                                                           # add neighbors to each node\n",
    "        for i in range(len(list_of_regions_and_weights)):\n",
    "            if node.name == list_of_regions_and_weights[i][0]:\n",
    "                node.update(list_of_regions_and_weights[i][1], list_of_regions_and_weights[i][2])\n",
    "    return Graph(name_of_graph, regions_nodes_list)"
   ]
  },
  {
   "cell_type": "code",
   "execution_count": 61,
   "metadata": {},
   "outputs": [],
   "source": [
    "regions_list = ['Center', 'North', 'South', 'East', 'West']"
   ]
  },
  {
   "cell_type": "code",
   "execution_count": 62,
   "metadata": {},
   "outputs": [
    {
     "name": "stdout",
     "output_type": "stream",
     "text": [
      "Graph's name: gew\n",
      "Nodes in graph:\n",
      "   1: Node's name: Center ; Neighbors (name:weight): {'West': 5377, 'North': 5308}\n",
      "   2: Node's name: East ; Neighbors (name:weight): {'South': 3596}\n",
      "\n"
     ]
    }
   ],
   "source": [
    "gew = create_graph(getcwd() + \"\\\\travelsew.csv\", 'gew')\n",
    "print(gew)"
   ]
  },
  {
   "cell_type": "code",
   "execution_count": 63,
   "metadata": {},
   "outputs": [
    {
     "name": "stdout",
     "output_type": "stream",
     "text": [
      "Graph's name: gwe\n",
      "Nodes in graph:\n",
      "   1: Node's name: Center ; Neighbors (name:weight): {'South': 10806, 'East': 3512}\n",
      "   2: Node's name: North ; Neighbors (name:weight): {'Center': 3542}\n",
      "   3: Node's name: South ; Neighbors (name:weight): {'East': 3582}\n",
      "   4: Node's name: West ; Neighbors (name:weight): {'North': 3565, 'Center': 8953}\n",
      "\n"
     ]
    }
   ],
   "source": [
    "gwe = create_graph(getcwd() + \"\\\\travelswe.csv\", 'gwe')\n",
    "print(gwe)"
   ]
  },
  {
   "cell_type": "code",
   "execution_count": 64,
   "metadata": {},
   "outputs": [
    {
     "name": "stdout",
     "output_type": "stream",
     "text": [
      "Graph's name: gew_gwe\n",
      "Nodes in graph:\n",
      "   1: Node's name: Center ; Neighbors (name:weight): {'West': 5377, 'North': 5308, 'South': 10806, 'East': 3512}\n",
      "   2: Node's name: East ; Neighbors (name:weight): {'South': 3596}\n",
      "   3: Node's name: North ; Neighbors (name:weight): {'Center': 3542}\n",
      "   4: Node's name: South ; Neighbors (name:weight): {'East': 3582}\n",
      "   5: Node's name: West ; Neighbors (name:weight): {'North': 3565, 'Center': 8953}\n",
      "\n"
     ]
    }
   ],
   "source": [
    "groadmap = gew + gwe\n",
    "print(groadmap)"
   ]
  },
  {
   "cell_type": "markdown",
   "metadata": {},
   "source": [
    "#### Question 2: Find from which region to which region it takes the longest time to travel "
   ]
  },
  {
   "cell_type": "markdown",
   "metadata": {},
   "source": [
    "##### Implemented by using the functions find_shortest_paths() and find_highest_path() defined above\n",
    "##### Solution: \n",
    "- populate a list of tuples of all shortest paths in the graph, and their weights\n",
    "- then find the shortest path which has the highest weight"
   ]
  },
  {
   "cell_type": "code",
   "execution_count": 65,
   "metadata": {},
   "outputs": [
    {
     "name": "stdout",
     "output_type": "stream",
     "text": [
      "There's no path from node East to node Center\n",
      "There's no path from node East to node West\n",
      "There's no path from node East to node North\n",
      "There's no path from node South to node Center\n",
      "There's no path from node South to node West\n",
      "There's no path from node South to node North\n"
     ]
    }
   ],
   "source": [
    "highest_path = find_highest_path(find_shortest_paths(groadmap, [node.name for node in groadmap.nodes.values()]))"
   ]
  },
  {
   "cell_type": "code",
   "execution_count": 66,
   "metadata": {},
   "outputs": [
    {
     "name": "stdout",
     "output_type": "stream",
     "text": [
      "The pair of nodes of which the shortest path between them is the highest, is: (West, South) \n",
      "The path is: ['West', 'North', 'Center', 'East', 'South'] \n",
      "The path's weight is: 14215\n"
     ]
    }
   ],
   "source": [
    "print(\"The pair of nodes of which the shortest path between them is the highest, is: ({}, {}) \\n\\\n",
    "The path is: {} \\nThe path's weight is: {}\" \\\n",
    ".format(highest_path[0][0], highest_path[0][-1], highest_path[0], highest_path[1]))\n"
   ]
  },
  {
   "cell_type": "markdown",
   "metadata": {},
   "source": [
    "## Part 3 - Non-directional graph"
   ]
  },
  {
   "cell_type": "markdown",
   "metadata": {},
   "source": [
    "### Task 1 - Define the class"
   ]
  },
  {
   "cell_type": "code",
   "execution_count": 67,
   "metadata": {},
   "outputs": [],
   "source": [
    "class NonDirectionalGraph(Graph):           # sub-class of Graph. Edges come in pairs - relevant methods are rewritten below\n",
    "    def __init__(self, name, nodes=[]): \n",
    "        super().__init__(name, nodes)\n",
    "        for node in nodes:                                  # when graph is created, every edge must have a counterpart edge\n",
    "            for nbr_name, nbr_weight in node.neighbors.items():\n",
    "                if nbr_name in self:\n",
    "                    self[nbr_name].update(node.name, nbr_weight)\n",
    " \n",
    "    def update(self, node): \n",
    "    # adding a new node to a non-directional graph\n",
    "    # premise: a node may exist in the non-directional graph while its neighbor might exist outside the graph. In such case,\n",
    "    #          a counterpart edge (from the \"outside\" neighbor to the node in the graph) might not exist.\n",
    "    # When adding a node to the graph, all cases must be taken under consideration, as follows.\n",
    "        if node in self:   \n",
    "            # if a node with the same name already exists in self, then for each neighbor of node:\n",
    "            # - if neighbor does not exist (as a node) in self, do nothing (neighbor is not included in the graph;\n",
    "            #                                                               a counterpart edge will not be added)\n",
    "            # - if neighbor exists in self (as a node), call \"Node.update()\" to either add an edge or to update its weight.\n",
    "            #   Do the same for the counterpart edge\n",
    "            for nbr_name, nbr_weight in node.neighbors.items():\n",
    "                if nbr_name in self:\n",
    "                    self[node.name].update(nbr_name, nbr_weight)\n",
    "                    self[nbr_name].update(node.name, nbr_weight)\n",
    "        else:            \n",
    "            self.nodes[node.name] = node             \n",
    "            # a node with the same name does not exist in self - add it and then:\n",
    "            # a. parsing the new nodes' neighbors:\n",
    "            #    for each neighbor, if neighbor does not exist in the graph, do nothing. \n",
    "            #                       else call \"Node.update()\" to either add an edge or to update its weight.\n",
    "            # b. parsing all nodes in the graph, searching for nodes that the new added node is their neighbor (this might\n",
    "            #    happen, as explained above). For each one of these, call \"Node.update()\" to either add an edge\n",
    "            #    (from the new added node, to the node in the graph) or to update its weight. \n",
    "            for nbr_name, nbr_weight in node.neighbors.items():\n",
    "                if nbr_name in self:\n",
    "                    self[node.name].update(nbr_name, nbr_weight)\n",
    "                    self[nbr_name].update(node.name, nbr_weight)\n",
    "            for node_in_self in self.nodes.values():\n",
    "                if node.name in node_in_self.neighbors:\n",
    "                    self[node.name].update(node_in_self.name, node_in_self.neighbors[node.name])\n",
    "                    self[node_in_self.name].update(node.name, node.neighbors[node_in_self.name])                  \n",
    "            \n",
    "    def add_edge(self, frm_name, to_name, weight):\n",
    "    # when an edge from a node to its neighbor is added to the non-directional graph, an edge with the same weight\n",
    "    #                                                                should be added from the neighbor to the node\n",
    "    # if either frm_name or to_name are not in self, do nothing, return None\n",
    "    # else call \"Node.update()\" for both the edge and its counterpart\n",
    "        if frm_name in self and to_name in self:\n",
    "            self[frm_name].update(to_name, weight)\n",
    "            self[to_name].update(frm_name, weight)\n",
    "            \n",
    "    def remove_edge(self, frm_name, to_name):  \n",
    "    # when an edge from a node to its neighbor is removed from the non-directional graph, its counterpart edge \n",
    "    #                                                            (from the neighbor to the node) should be removed as well\n",
    "    # if frm_name is not in self, do nothing. if edge from frm to to exists - remove it, else do nothing \n",
    "    # if to_name is in self and if edge from to to frm exists - remove it, else do nothing \n",
    "        if frm_name in self and self.is_edge(frm_name, to_name):\n",
    "            self[frm_name].neighbors.pop(to_name)\n",
    "        if to_name in self and self.is_edge(to_name, frm_name):\n",
    "            self[to_name].neighbors.pop(frm_name)"
   ]
  },
  {
   "cell_type": "markdown",
   "metadata": {},
   "source": [
    "#### some tests"
   ]
  },
  {
   "cell_type": "code",
   "execution_count": 68,
   "metadata": {},
   "outputs": [
    {
     "name": "stdout",
     "output_type": "stream",
     "text": [
      "Graph's name: Gnd\n",
      "Nodes in graph:\n",
      "   1: Node's name: nd1 ; Neighbors (name:weight): {'nd2': 12, 'nd3': 13}\n",
      "   2: Node's name: nd2 ; Neighbors (name:weight): {'nd1': 12}\n",
      "   3: Node's name: nd3 ; Neighbors (name:weight): {'nd1': 13}\n",
      "   4: Node's name: nd4 ; Neighbors (name:weight): {'nd5': 45}\n",
      "   5: Node's name: nd5 ; Neighbors (name:weight): {'nd4': 45}\n",
      "\n"
     ]
    }
   ],
   "source": [
    "nd1 = Node('nd1')\n",
    "nd2 = Node('nd2')\n",
    "nd3 = Node('nd3')\n",
    "nd4 = Node('nd4')\n",
    "nd5 = Node('nd5')\n",
    "nd1.update('nd2', 12)\n",
    "nd1.update('nd3', 13)\n",
    "nd4.update('nd5', 45)\n",
    "Gnd = NonDirectionalGraph('Gnd', [nd1, nd2, nd3, nd4, nd5])\n",
    "print(Gnd)"
   ]
  },
  {
   "cell_type": "code",
   "execution_count": 69,
   "metadata": {},
   "outputs": [
    {
     "name": "stdout",
     "output_type": "stream",
     "text": [
      "Node's name: nd1 ; Neighbors (name:weight): {'nd2': 12, 'nd3': 39, 'nd6': 16, 'nd4': 14}\n",
      "Graph's name: Gnd\n",
      "Nodes in graph:\n",
      "   1: Node's name: nd1 ; Neighbors (name:weight): {'nd2': 12, 'nd3': 39, 'nd6': 16, 'nd4': 14}\n",
      "   2: Node's name: nd2 ; Neighbors (name:weight): {'nd1': 12}\n",
      "   3: Node's name: nd3 ; Neighbors (name:weight): {'nd1': 13}\n",
      "   4: Node's name: nd4 ; Neighbors (name:weight): {'nd5': 45}\n",
      "   5: Node's name: nd5 ; Neighbors (name:weight): {'nd4': 45}\n",
      "\n"
     ]
    }
   ],
   "source": [
    "nd6 = Node('nd6')\n",
    "nd1.update('nd6', 16)\n",
    "nd1.update('nd4', 14)\n",
    "nd1.update('nd3', 39)\n",
    "print(nd1)\n",
    "print(Gnd)"
   ]
  },
  {
   "cell_type": "code",
   "execution_count": 70,
   "metadata": {},
   "outputs": [
    {
     "name": "stdout",
     "output_type": "stream",
     "text": [
      "Node's name: nd4 ; Neighbors (name:weight): {'nd5': 45, 'nd2': 42}\n",
      "Graph's name: Gnd\n",
      "Nodes in graph:\n",
      "   1: Node's name: nd1 ; Neighbors (name:weight): {'nd2': 12, 'nd3': 39, 'nd6': 16, 'nd4': 14}\n",
      "   2: Node's name: nd2 ; Neighbors (name:weight): {'nd1': 12, 'nd4': 42}\n",
      "   3: Node's name: nd3 ; Neighbors (name:weight): {'nd1': 13}\n",
      "   4: Node's name: nd4 ; Neighbors (name:weight): {'nd5': 45, 'nd2': 42}\n",
      "   5: Node's name: nd5 ; Neighbors (name:weight): {'nd4': 45}\n",
      "\n"
     ]
    }
   ],
   "source": [
    "Gnd.add_edge('nd4', 'nd2', 42)\n",
    "print(nd4)\n",
    "print(Gnd)"
   ]
  },
  {
   "cell_type": "code",
   "execution_count": 71,
   "metadata": {},
   "outputs": [
    {
     "name": "stdout",
     "output_type": "stream",
     "text": [
      "Node's name: nd4 ; Neighbors (name:weight): {'nd5': 45}\n",
      "Graph's name: Gnd\n",
      "Nodes in graph:\n",
      "   1: Node's name: nd1 ; Neighbors (name:weight): {'nd2': 12, 'nd3': 39, 'nd6': 16, 'nd4': 14}\n",
      "   2: Node's name: nd2 ; Neighbors (name:weight): {'nd1': 12}\n",
      "   3: Node's name: nd3 ; Neighbors (name:weight): {'nd1': 13}\n",
      "   4: Node's name: nd4 ; Neighbors (name:weight): {'nd5': 45}\n",
      "   5: Node's name: nd5 ; Neighbors (name:weight): {'nd4': 45}\n",
      "\n"
     ]
    }
   ],
   "source": [
    "Gnd.remove_edge('nd4', 'nd2')\n",
    "print(nd4)\n",
    "print(Gnd)"
   ]
  },
  {
   "cell_type": "code",
   "execution_count": 72,
   "metadata": {},
   "outputs": [
    {
     "name": "stdout",
     "output_type": "stream",
     "text": [
      "Graph's name: Gnd\n",
      "Nodes in graph:\n",
      "   1: Node's name: nd1 ; Neighbors (name:weight): {'nd2': 12, 'nd3': 39, 'nd6': 16, 'nd4': 14}\n",
      "   2: Node's name: nd2 ; Neighbors (name:weight): {'nd1': 12}\n",
      "   3: Node's name: nd3 ; Neighbors (name:weight): {'nd1': 13}\n",
      "   4: Node's name: nd4 ; Neighbors (name:weight): {'nd5': 45}\n",
      "   5: Node's name: nd5 ; Neighbors (name:weight): {'nd4': 45}\n",
      "   6: Node's name: nd6 ; Neighbors (name:weight): {'nd1': 16}\n",
      "\n"
     ]
    }
   ],
   "source": [
    "Gnd.update(nd6)\n",
    "print(Gnd)"
   ]
  },
  {
   "cell_type": "code",
   "execution_count": 73,
   "metadata": {},
   "outputs": [
    {
     "name": "stdout",
     "output_type": "stream",
     "text": [
      "Graph's name: Gnd\n",
      "Nodes in graph:\n",
      "   1: Node's name: nd1 ; Neighbors (name:weight): {'nd2': 12, 'nd3': 39, 'nd6': 16, 'nd4': 14}\n",
      "   2: Node's name: nd2 ; Neighbors (name:weight): {'nd1': 12}\n",
      "   3: Node's name: nd3 ; Neighbors (name:weight): {'nd1': 13}\n",
      "   4: Node's name: nd4 ; Neighbors (name:weight): {'nd5': 45}\n",
      "   5: Node's name: nd5 ; Neighbors (name:weight): {'nd4': 45}\n",
      "\n"
     ]
    }
   ],
   "source": [
    "Gnd.remove_node('nd6')\n",
    "print(Gnd)"
   ]
  },
  {
   "cell_type": "code",
   "execution_count": 74,
   "metadata": {},
   "outputs": [
    {
     "name": "stdout",
     "output_type": "stream",
     "text": [
      "Node's name: nd6 ; Neighbors (name:weight): {'nd1': 16, 'nd2': 62, 'nd7': 67}\n"
     ]
    }
   ],
   "source": [
    "nd6.update('nd2', 62)\n",
    "nd7 = Node('nd7')\n",
    "nd6.update('nd7', 67)\n",
    "Gnd.remove_edge('nd6', 'nd1')\n",
    "print(nd6)"
   ]
  },
  {
   "cell_type": "code",
   "execution_count": 75,
   "metadata": {},
   "outputs": [
    {
     "name": "stdout",
     "output_type": "stream",
     "text": [
      "Graph's name: Gnd\n",
      "Nodes in graph:\n",
      "   1: Node's name: nd1 ; Neighbors (name:weight): {'nd2': 12, 'nd3': 39, 'nd4': 14, 'nd6': 16}\n",
      "   2: Node's name: nd2 ; Neighbors (name:weight): {'nd1': 12, 'nd6': 62}\n",
      "   3: Node's name: nd3 ; Neighbors (name:weight): {'nd1': 13}\n",
      "   4: Node's name: nd4 ; Neighbors (name:weight): {'nd5': 45}\n",
      "   5: Node's name: nd5 ; Neighbors (name:weight): {'nd4': 45}\n",
      "   6: Node's name: nd6 ; Neighbors (name:weight): {'nd1': 16, 'nd2': 62, 'nd7': 67}\n",
      "\n"
     ]
    }
   ],
   "source": [
    "Gnd.update(nd6)\n",
    "print(Gnd)"
   ]
  },
  {
   "cell_type": "code",
   "execution_count": 76,
   "metadata": {},
   "outputs": [
    {
     "name": "stdout",
     "output_type": "stream",
     "text": [
      "Graph's name: Gnd\n",
      "Nodes in graph:\n",
      "   1: Node's name: nd1 ; Neighbors (name:weight): {'nd2': 12, 'nd3': 39, 'nd4': 14, 'nd6': 61}\n",
      "   2: Node's name: nd2 ; Neighbors (name:weight): {'nd1': 12, 'nd6': 62}\n",
      "   3: Node's name: nd3 ; Neighbors (name:weight): {'nd1': 13}\n",
      "   4: Node's name: nd4 ; Neighbors (name:weight): {'nd5': 45}\n",
      "   5: Node's name: nd5 ; Neighbors (name:weight): {'nd4': 45}\n",
      "   6: Node's name: nd6 ; Neighbors (name:weight): {'nd1': 16, 'nd2': 62, 'nd7': 67}\n",
      "\n"
     ]
    }
   ],
   "source": [
    "nd1.update('nd6', 61)\n",
    "print(Gnd)"
   ]
  },
  {
   "cell_type": "code",
   "execution_count": 77,
   "metadata": {},
   "outputs": [
    {
     "name": "stdout",
     "output_type": "stream",
     "text": [
      "Graph's name: Gnd\n",
      "Nodes in graph:\n",
      "   1: Node's name: nd1 ; Neighbors (name:weight): {'nd2': 12, 'nd3': 39, 'nd4': 14, 'nd6': 61}\n",
      "   2: Node's name: nd2 ; Neighbors (name:weight): {'nd1': 12, 'nd6': 62}\n",
      "   3: Node's name: nd3 ; Neighbors (name:weight): {'nd1': 13}\n",
      "   4: Node's name: nd4 ; Neighbors (name:weight): {'nd5': 45}\n",
      "   5: Node's name: nd5 ; Neighbors (name:weight): {'nd4': 45}\n",
      "   6: Node's name: nd6 ; Neighbors (name:weight): {'nd1': 16, 'nd2': 62, 'nd7': 67}\n",
      "\n"
     ]
    }
   ],
   "source": [
    "Gnd.update(nd6)\n",
    "print(Gnd)"
   ]
  },
  {
   "cell_type": "code",
   "execution_count": 78,
   "metadata": {},
   "outputs": [
    {
     "name": "stdout",
     "output_type": "stream",
     "text": [
      "Graph's name: Gnd\n",
      "Nodes in graph:\n",
      "   1: Node's name: nd1 ; Neighbors (name:weight): {'nd2': 12, 'nd3': 39, 'nd4': 14, 'nd6': 61}\n",
      "   2: Node's name: nd2 ; Neighbors (name:weight): {'nd1': 12, 'nd6': 62}\n",
      "   3: Node's name: nd3 ; Neighbors (name:weight): {'nd1': 39}\n",
      "   4: Node's name: nd4 ; Neighbors (name:weight): {'nd5': 45, 'nd1': 14}\n",
      "   5: Node's name: nd5 ; Neighbors (name:weight): {'nd4': 45}\n",
      "   6: Node's name: nd6 ; Neighbors (name:weight): {'nd1': 61, 'nd2': 62, 'nd7': 67}\n",
      "\n",
      "Node's name: nd7 ; Neighbors (name:weight): {}\n"
     ]
    }
   ],
   "source": [
    "Gnd.update(nd1)\n",
    "print(Gnd)\n",
    "print(nd7)"
   ]
  },
  {
   "cell_type": "markdown",
   "metadata": {},
   "source": [
    "### Task 2 - The social network implementation"
   ]
  },
  {
   "cell_type": "markdown",
   "metadata": {},
   "source": [
    "#### Question 1 - What was the highest number of simultaneous friendships (along the way, not necessarily at the end)\n",
    "#### Question 2 - What was the maximum number of friends Reuben had simutaneously\n",
    "\n",
    "#### Solution: \n",
    "- Each friend in social.txt will be represented as a Node, carrying the friend's name\n",
    "- A friendship between two friends will be represented as an edge between the two Nodes\n",
    "- A non-directional graph will hold all the nodes and edges (if X is a friend of Y, then by definition Y is a friend of X)\n",
    "- When two names \"become friends\", a new edge (and its counterpart) will be added between them, carrying a weight of 1.\n",
    "  the number_of_simultaneous_frienships will be increased by 1 (unless they are already friends). \n",
    "  The highest_num_of_simultaneous_frienships will keep the maximum value of number_of_simultaneous_frienships along the way.\n",
    "- When two persons \"cancel their friendship\", the edges between them will be removed. The number_of_simultaneous_frienships\n",
    "  will be decreased by 1. \n",
    "- To find Reuben's maximum number of friends along the way, the Node's len (number of neighbors) is being compared to the \n",
    "  max_reuben_friends after every addition of friendship with Reuben.\n"
   ]
  },
  {
   "cell_type": "code",
   "execution_count": 79,
   "metadata": {},
   "outputs": [],
   "source": [
    "import csv\n",
    "from os import getcwd"
   ]
  },
  {
   "cell_type": "code",
   "execution_count": 80,
   "metadata": {},
   "outputs": [],
   "source": [
    "excel_dialect = csv.get_dialect('excel')"
   ]
  },
  {
   "cell_type": "code",
   "execution_count": 81,
   "metadata": {},
   "outputs": [],
   "source": [
    "def add_friendship(name1, name2):\n",
    "    \n",
    "    global number_of_simultaneous_frienships, highest_num_of_simultaneous_frienships, max_reuben_friends\n",
    "    \n",
    "    if not name1 in friendships_graph:\n",
    "        friendships_graph.update(Node(name1))            # create the Node for the first friend and add it to the graph\n",
    "    if not name2 in friendships_graph:\n",
    "        friendships_graph.update(Node(name2))            # create the Node for the second friend and add it to the graph\n",
    "    if not friendships_graph.is_edge(name1, name2):\n",
    "        friendships_graph.add_edge(name1, name2, 1)      # add an edge between the two new friends\n",
    "        friendships_graph.add_edge(name2, name1, 1)      # add the counterpart edge\n",
    "        number_of_simultaneous_frienships += 1\n",
    "        highest_num_of_simultaneous_frienships = max(highest_num_of_simultaneous_frienships, number_of_simultaneous_frienships)\n",
    "        if 'Reuben' in (name1, name2):\n",
    "            max_reuben_friends = max(max_reuben_friends, len(friendships_graph['Reuben']))\n",
    "    return"
   ]
  },
  {
   "cell_type": "code",
   "execution_count": 82,
   "metadata": {},
   "outputs": [],
   "source": [
    "def cancel_fiendship(name1, name2):\n",
    "    \n",
    "    global number_of_simultaneous_frienships\n",
    "\n",
    "    friendships_graph.remove_edge(name1, name2)\n",
    "    number_of_simultaneous_frienships -= 1\n",
    "    return    "
   ]
  },
  {
   "cell_type": "code",
   "execution_count": 83,
   "metadata": {},
   "outputs": [
    {
     "name": "stdout",
     "output_type": "stream",
     "text": [
      "The highest number of simultaneous friendships was: 54\n",
      "Reuben's maximum number of friends was: 10\n"
     ]
    }
   ],
   "source": [
    "friendships_graph = NonDirectionalGraph('friendships', [])\n",
    "intrigue_list = []                      # a list to hold all file records\n",
    "number_of_simultaneous_frienships = 0\n",
    "highest_num_of_simultaneous_frienships = 0\n",
    "max_reuben_friends = 0\n",
    "fpath = getcwd() + \"\\\\social.txt\"\n",
    "with open(fpath, encoding='utf-8') as f:\n",
    "    csv_reader = csv.reader(f, delimiter = ' ')\n",
    "    for rec in csv_reader:\n",
    "        intrigue_list.append(rec)\n",
    "for intrigue_row in intrigue_list:\n",
    "    if 'became' in intrigue_row:                             # a new friendship\n",
    "        add_friendship(intrigue_row[0], intrigue_row[2])\n",
    "    elif 'cancelled' in intrigue_row:                        # cancellation of friendship\n",
    "        cancel_fiendship(intrigue_row[0], intrigue_row[2])\n",
    "print('The highest number of simultaneous friendships was:', highest_num_of_simultaneous_frienships)\n",
    "print(\"Reuben's maximum number of friends was:\", max_reuben_friends)"
   ]
  },
  {
   "cell_type": "markdown",
   "metadata": {},
   "source": [
    "#### Question 3 - What is the maximal path betwen nodes in the graph\n",
    "\n",
    "#### Solution: \n",
    "- The maximal path is the longest path among all shortest paths in the graph.\n",
    "- The function find_highest_path() defined above, will be called for that mission."
   ]
  },
  {
   "cell_type": "code",
   "execution_count": 84,
   "metadata": {},
   "outputs": [
    {
     "name": "stdout",
     "output_type": "stream",
     "text": [
      "Maximal path between nodes in the graph, is: ['Manasseh', 'Judah', 'Asher'] \n",
      "The path's length is: 2\n"
     ]
    }
   ],
   "source": [
    "longest_path = find_highest_path(find_shortest_paths(friendships_graph, \\\n",
    "                                                     [node.name for node in friendships_graph.nodes.values()]))\n",
    "print(\"Maximal path between nodes in the graph, is: {} \\nThe path's length is: {}\" \\\n",
    "      .format(longest_path[0], longest_path[1]))"
   ]
  },
  {
   "cell_type": "markdown",
   "metadata": {},
   "source": [
    "#### Question 4 - Find the name of the node with the highest number of common friends with a given node, which is not already one of its friends.\n",
    "\n",
    "#### Solution: Implementing a function called \"suggest_friend()\": <br>\n",
    "For every node in the graph, which is not the given-node's friend (not included in its neighbors):\n",
    "- find how many common friends they have (\"comparing\" the node's neighbors with the given-node's neighbors)\n",
    "- find the max of the above (the node with the highest number of common friends)"
   ]
  },
  {
   "cell_type": "code",
   "execution_count": 85,
   "metadata": {},
   "outputs": [
    {
     "name": "stdout",
     "output_type": "stream",
     "text": [
      "Suggested friend for Manasseh is Levi. They have 6 friends in common. Guaranteed Success!!!\n",
      "Suggested friend for Joseph is Judah. They have 5 friends in common. Guaranteed Success!!!\n",
      "Suggested friend for Naphtali is Zebulun. They have 7 friends in common. Guaranteed Success!!!\n",
      "Suggested friend for Judah is Ephraim. They have 6 friends in common. Guaranteed Success!!!\n",
      "Suggested friend for Asher is Manasseh. They have 5 friends in common. Guaranteed Success!!!\n",
      "Suggested friend for Dan is Issachar. They have 6 friends in common. Guaranteed Success!!!\n",
      "Suggested friend for Gad is Dan. They have 5 friends in common. Guaranteed Success!!!\n",
      "Suggested friend for Issachar is Dan. They have 6 friends in common. Guaranteed Success!!!\n",
      "Suggested friend for Ephraim is Judah. They have 6 friends in common. Guaranteed Success!!!\n",
      "Suggested friend for Benjamin is Zebulun. They have 4 friends in common. Guaranteed Success!!!\n",
      "Suggested friend for Zebulun is Naphtali. They have 7 friends in common. Guaranteed Success!!!\n",
      "Suggested friend for Simeon is Asher. They have 4 friends in common. Guaranteed Success!!!\n",
      "Suggested friend for Reuben is Judah. They have 4 friends in common. Guaranteed Success!!!\n",
      "Suggested friend for Levi is Manasseh. They have 6 friends in common. Guaranteed Success!!!\n"
     ]
    }
   ],
   "source": [
    "def suggest_friend(graph_instance, node_name):\n",
    "    common_friends = {}\n",
    "    for suggested_node in friendships_graph.nodes.values():\n",
    "        if suggested_node.name != node_name and suggested_node.name not in graph_instance[node_name].neighbors:\n",
    "            for nbr_name in suggested_node.neighbors:\n",
    "                common_friends[suggested_node.name] = \\\n",
    "                common_friends.get(suggested_node.name,0) + (nbr_name in graph_instance[node_name].neighbors)\n",
    "    print('Suggested friend for {} is {}. They have {} friends in common. Guaranteed Success!!!'.format(node_name, \n",
    "          sorted(common_friends.items(), key=lambda x: x[1], reverse=1)[0][0], \\\n",
    "          sorted(common_friends.items(), key=lambda x: x[1], reverse=1)[0][1]))\n",
    "\n",
    "for node in friendships_graph.nodes.values():\n",
    "    suggest_friend(friendships_graph, node.name)\n",
    "    "
   ]
  }
 ],
 "metadata": {
  "kernelspec": {
   "display_name": "Python 3",
   "language": "python",
   "name": "python3"
  },
  "language_info": {
   "codemirror_mode": {
    "name": "ipython",
    "version": 3
   },
   "file_extension": ".py",
   "mimetype": "text/x-python",
   "name": "python",
   "nbconvert_exporter": "python",
   "pygments_lexer": "ipython3",
   "version": "3.6.5"
  }
 },
 "nbformat": 4,
 "nbformat_minor": 2
}
